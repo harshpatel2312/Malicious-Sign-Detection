{
 "cells": [
  {
   "cell_type": "code",
   "execution_count": 9,
   "id": "0c6587fd-9a97-4d05-8f96-c644dd5a925a",
   "metadata": {
    "scrolled": true
   },
   "outputs": [
    {
     "name": "stdout",
     "output_type": "stream",
     "text": [
      "Updated COLOR_RANGES: {'red': [(16, 0, 0), (255, 253, 250)], 'green': [(0, 36, 0), (245, 255, 250)], 'yellow': [(154, 153, 0), (255, 255, 96)]}\n"
     ]
    }
   ],
   "source": [
    "import pandas as pd\n",
    "\n",
    "# Load the colors CSV file\n",
    "file_path = 'colors.csv'\n",
    "colors_df = pd.read_csv(file_path)\n",
    "\n",
    "# Rename columns for easier access\n",
    "colors_df.columns = ['id', 'name', 'hex', 'r', 'g', 'b']\n",
    "colors_df['r'] = colors_df['r'].astype(int)\n",
    "colors_df['g'] = colors_df['g'].astype(int)\n",
    "colors_df['b'] = colors_df['b'].astype(int)\n",
    "\n",
    "# Define conditions for each color\n",
    "red_condition = (colors_df['r'] > colors_df['g']) & (colors_df['r'] > colors_df['b'])\n",
    "green_condition = (colors_df['g'] > colors_df['r']) & (colors_df['g'] > colors_df['b'])\n",
    "yellow_condition = (colors_df['r'] > 150) & (colors_df['g'] > 150) & (colors_df['b'] < 100)\n",
    "\n",
    "# Compute RGB ranges for each color group\n",
    "def compute_color_range(df, color_condition):\n",
    "    filtered = df[color_condition]\n",
    "    r_min, r_max = filtered['r'].min(), filtered['r'].max()\n",
    "    g_min, g_max = filtered['g'].min(), filtered['g'].max()\n",
    "    b_min, b_max = filtered['b'].min(), filtered['b'].max()\n",
    "    return (r_min, g_min, b_min), (r_max, g_max, b_max)\n",
    "\n",
    "red_range = compute_color_range(colors_df, red_condition)\n",
    "green_range = compute_color_range(colors_df, green_condition)\n",
    "yellow_range = compute_color_range(colors_df, yellow_condition)\n",
    "\n",
    "# Define COLOR_RANGES dictionary\n",
    "COLOR_RANGES = {\n",
    "    \"red\": [red_range[0], red_range[1]],\n",
    "    \"green\": [green_range[0], green_range[1]],\n",
    "    \"yellow\": [yellow_range[0], yellow_range[1]],\n",
    "}\n",
    "\n",
    "print(\"Updated COLOR_RANGES:\", COLOR_RANGES)\n"
   ]
  },
  {
   "cell_type": "code",
   "execution_count": null,
   "id": "ea8a68bd-6179-48eb-951b-4e5ca2d5ab8f",
   "metadata": {},
   "outputs": [],
   "source": []
  }
 ],
 "metadata": {
  "kernelspec": {
   "display_name": "Python 3 (ipykernel)",
   "language": "python",
   "name": "python3"
  },
  "language_info": {
   "codemirror_mode": {
    "name": "ipython",
    "version": 3
   },
   "file_extension": ".py",
   "mimetype": "text/x-python",
   "name": "python",
   "nbconvert_exporter": "python",
   "pygments_lexer": "ipython3",
   "version": "3.12.4"
  }
 },
 "nbformat": 4,
 "nbformat_minor": 5
}

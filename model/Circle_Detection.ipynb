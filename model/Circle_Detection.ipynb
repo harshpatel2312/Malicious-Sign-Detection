{
 "cells": [
  {
   "cell_type": "code",
   "execution_count": 3,
   "id": "b2341481-2cdb-425f-a135-0fd398c28f9a",
   "metadata": {},
   "outputs": [],
   "source": [
    "import cv2"
   ]
  },
  {
   "cell_type": "code",
   "execution_count": 4,
   "id": "5b993f05-14e6-4ab1-8ba5-5fd5c3125f04",
   "metadata": {},
   "outputs": [],
   "source": [
    "def onChange(x):\n",
    "    pass"
   ]
  },
  {
   "cell_type": "code",
   "execution_count": 30,
   "id": "9354f42d-f219-44e3-b79e-5775feaa5a05",
   "metadata": {},
   "outputs": [],
   "source": [
    "import numpy as np\n",
    "cap = cv2.VideoCapture(0)\n",
    "while(True):\n",
    "    ret, frame = cap.read()\n",
    "\n",
    "    #Convert to greyscale\n",
    "    gray = cv2.cvtColor(frame, cv2.COLOR_BGR2GRAY)\n",
    "    gray = cv2.medianBlur(gray, 5)\n",
    "\n",
    "    rows = gray.shape[0]\n",
    "    #Detects Circles\n",
    "    circles = cv2.HoughCircles(gray, cv2.HOUGH_GRADIENT, 1, rows/8, param1=100, param2=30, minRadius=25, maxRadius=50)\n",
    "    if circles is not None:\n",
    "        circles = np.uint16(np.around(circles))\n",
    "        for i in circles[0, :]:\n",
    "            center = (i[0], i[1])\n",
    "            cv2.circle(frame, center, 1, (0, 100, 100), 3)\n",
    "            radius = i[2]\n",
    "            cv2.circle(frame, center, radius, (255, 0, 255), 3)\n",
    "\n",
    "    \n",
    "    cv2.imshow(\"Open_CV GUI\", frame)\n",
    "    if cv2.waitKey(1) & 0xFF == ord('q'):\n",
    "        break\n",
    "\n",
    "cap.release()\n",
    "cv2.destroyAllWindows()"
   ]
  },
  {
   "cell_type": "code",
   "execution_count": null,
   "id": "bd9dae9a-8b36-4e01-aca3-de0ebf2217cc",
   "metadata": {},
   "outputs": [],
   "source": []
  }
 ],
 "metadata": {
  "kernelspec": {
   "display_name": "Python 3 (ipykernel)",
   "language": "python",
   "name": "python3"
  },
  "language_info": {
   "codemirror_mode": {
    "name": "ipython",
    "version": 3
   },
   "file_extension": ".py",
   "mimetype": "text/x-python",
   "name": "python",
   "nbconvert_exporter": "python",
   "pygments_lexer": "ipython3",
   "version": "3.12.4"
  }
 },
 "nbformat": 4,
 "nbformat_minor": 5
}

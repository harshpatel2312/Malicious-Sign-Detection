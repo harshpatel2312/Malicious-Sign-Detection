{
 "cells": [
  {
   "cell_type": "markdown",
   "metadata": {},
   "source": [
    "In[9]:"
   ]
  },
  {
   "cell_type": "code",
   "execution_count": 4,
   "metadata": {},
   "outputs": [],
   "source": [
    "import os\n",
    "import numpy as np\n",
    "from skimage.io import imread\n",
    "from skimage.transform import resize\n",
    "from sklearn.model_selection import train_test_split\n",
    "from sklearn.svm import SVC\n",
    "from sklearn.model_selection import GridSearchCV\n",
    "from sklearn.metrics import accuracy_score, classification_report, confusion_matrix\n",
    "from skimage.color import rgba2rgb\n",
    "import pickle\n",
    "import time\n",
    "from flask import Flask, jsonify\n",
    "import threading\n",
    "import matplotlib.pyplot as plt\n",
    "import seaborn as sns"
   ]
  },
  {
   "cell_type": "markdown",
   "metadata": {},
   "source": [
    "In[10]:"
   ]
  },
  {
   "cell_type": "code",
   "execution_count": 6,
   "metadata": {},
   "outputs": [],
   "source": [
    "app = Flask(__name__)\n",
    "start_time=time.time()"
   ]
  },
  {
   "cell_type": "code",
   "execution_count": 7,
   "metadata": {},
   "outputs": [],
   "source": [
    "input_dir = r\"E:\\Education\\Projects\\Machine Learning\\Computer Vision\\Malicious-Sign-Detection\\carla_lights\\traffic_light_data\"\n",
    "categories = ['green', 'red', 'yellow', \"unknown\"]\n",
    "blurred_suffix = ' blurred'  \n",
    "img_size = (15, 15)  "
   ]
  },
  {
   "cell_type": "code",
   "execution_count": 8,
   "metadata": {},
   "outputs": [],
   "source": [
    "data_train = []\n",
    "labels_train = []\n",
    "data_val = []\n",
    "labels_val = []"
   ]
  },
  {
   "cell_type": "markdown",
   "metadata": {},
   "source": [
    "In[11]:"
   ]
  },
  {
   "cell_type": "code",
   "execution_count": 10,
   "metadata": {},
   "outputs": [],
   "source": [
    "def load_images(category, folder_type, data, labels):\n",
    "    \n",
    "    category_path = os.path.join(input_dir, folder_type, category)\n",
    "    blurred_path = os.path.join(input_dir, folder_type, f\"{category}{blurred_suffix}\")\n",
    "    for folder in [category_path, blurred_path]:\n",
    "        if not os.path.exists(folder):\n",
    "            continue\n",
    "        for file in os.listdir(folder):\n",
    "            img_path = os.path.join(folder, file)\n",
    "            try:\n",
    "                img = imread(img_path)\n",
    "                #Converting RGBA to RGB if necessary\n",
    "                if img.shape[-1] == 4:  # If image has 4 channels (RGBA)\n",
    "                    img = rgba2rgb(img)\n",
    "                img = resize(img, img_size)\n",
    "                if img.shape == (15, 15, 3):  \n",
    "                    data.append(img.flatten())\n",
    "                    labels.append(category)\n",
    "                else:\n",
    "                    print(f\"Skipping {file}: Invalid shape after resize {img.shape}\")\n",
    "            except Exception as e:\n",
    "                print(f\"Error loading {file}: {e}\")"
   ]
  },
  {
   "cell_type": "code",
   "execution_count": 11,
   "metadata": {},
   "outputs": [],
   "source": [
    "for category in categories:\n",
    "    load_images(category, 'train', data_train, labels_train)"
   ]
  },
  {
   "cell_type": "code",
   "execution_count": 12,
   "metadata": {},
   "outputs": [],
   "source": [
    "for category in categories:\n",
    "    load_images(category, 'val', data_val, labels_val)"
   ]
  },
  {
   "cell_type": "code",
   "execution_count": 13,
   "metadata": {},
   "outputs": [],
   "source": [
    "x_train = np.array(data_train)\n",
    "y_train = np.array(labels_train)\n",
    "x_val = np.array(data_val)\n",
    "y_val = np.array(labels_val)"
   ]
  },
  {
   "cell_type": "code",
   "execution_count": 14,
   "metadata": {},
   "outputs": [
    {
     "name": "stdout",
     "output_type": "stream",
     "text": [
      "x_train shape: (4100, 675), y_train shape: (4100,)\n",
      "x_val shape: (1402, 675), y_val shape: (1402,)\n"
     ]
    }
   ],
   "source": [
    "print(f\"x_train shape: {x_train.shape}, y_train shape: {y_train.shape}\")\n",
    "print(f\"x_val shape: {x_val.shape}, y_val shape: {y_val.shape}\")"
   ]
  },
  {
   "cell_type": "markdown",
   "metadata": {},
   "source": [
    "In[12]:"
   ]
  },
  {
   "cell_type": "markdown",
   "metadata": {},
   "source": [
    " training SVC model with hyperparameter tuning"
   ]
  },
  {
   "cell_type": "code",
   "execution_count": 17,
   "metadata": {},
   "outputs": [],
   "source": [
    "classifier = SVC(probability=True)\n",
    "parameters = [{'gamma': [0.01, 0.001, 0.0001], 'C': [1, 10, 100, 1000]}]\n",
    "#parameters = [{'gamma': [0.01, 0.001, 0.0001], 'C': [1, 10, 100, 1000]}]"
   ]
  },
  {
   "cell_type": "code",
   "execution_count": 18,
   "metadata": {},
   "outputs": [
    {
     "data": {
      "text/html": [
       "<style>#sk-container-id-1 {\n",
       "  /* Definition of color scheme common for light and dark mode */\n",
       "  --sklearn-color-text: black;\n",
       "  --sklearn-color-line: gray;\n",
       "  /* Definition of color scheme for unfitted estimators */\n",
       "  --sklearn-color-unfitted-level-0: #fff5e6;\n",
       "  --sklearn-color-unfitted-level-1: #f6e4d2;\n",
       "  --sklearn-color-unfitted-level-2: #ffe0b3;\n",
       "  --sklearn-color-unfitted-level-3: chocolate;\n",
       "  /* Definition of color scheme for fitted estimators */\n",
       "  --sklearn-color-fitted-level-0: #f0f8ff;\n",
       "  --sklearn-color-fitted-level-1: #d4ebff;\n",
       "  --sklearn-color-fitted-level-2: #b3dbfd;\n",
       "  --sklearn-color-fitted-level-3: cornflowerblue;\n",
       "\n",
       "  /* Specific color for light theme */\n",
       "  --sklearn-color-text-on-default-background: var(--sg-text-color, var(--theme-code-foreground, var(--jp-content-font-color1, black)));\n",
       "  --sklearn-color-background: var(--sg-background-color, var(--theme-background, var(--jp-layout-color0, white)));\n",
       "  --sklearn-color-border-box: var(--sg-text-color, var(--theme-code-foreground, var(--jp-content-font-color1, black)));\n",
       "  --sklearn-color-icon: #696969;\n",
       "\n",
       "  @media (prefers-color-scheme: dark) {\n",
       "    /* Redefinition of color scheme for dark theme */\n",
       "    --sklearn-color-text-on-default-background: var(--sg-text-color, var(--theme-code-foreground, var(--jp-content-font-color1, white)));\n",
       "    --sklearn-color-background: var(--sg-background-color, var(--theme-background, var(--jp-layout-color0, #111)));\n",
       "    --sklearn-color-border-box: var(--sg-text-color, var(--theme-code-foreground, var(--jp-content-font-color1, white)));\n",
       "    --sklearn-color-icon: #878787;\n",
       "  }\n",
       "}\n",
       "\n",
       "#sk-container-id-1 {\n",
       "  color: var(--sklearn-color-text);\n",
       "}\n",
       "\n",
       "#sk-container-id-1 pre {\n",
       "  padding: 0;\n",
       "}\n",
       "\n",
       "#sk-container-id-1 input.sk-hidden--visually {\n",
       "  border: 0;\n",
       "  clip: rect(1px 1px 1px 1px);\n",
       "  clip: rect(1px, 1px, 1px, 1px);\n",
       "  height: 1px;\n",
       "  margin: -1px;\n",
       "  overflow: hidden;\n",
       "  padding: 0;\n",
       "  position: absolute;\n",
       "  width: 1px;\n",
       "}\n",
       "\n",
       "#sk-container-id-1 div.sk-dashed-wrapped {\n",
       "  border: 1px dashed var(--sklearn-color-line);\n",
       "  margin: 0 0.4em 0.5em 0.4em;\n",
       "  box-sizing: border-box;\n",
       "  padding-bottom: 0.4em;\n",
       "  background-color: var(--sklearn-color-background);\n",
       "}\n",
       "\n",
       "#sk-container-id-1 div.sk-container {\n",
       "  /* jupyter's `normalize.less` sets `[hidden] { display: none; }`\n",
       "     but bootstrap.min.css set `[hidden] { display: none !important; }`\n",
       "     so we also need the `!important` here to be able to override the\n",
       "     default hidden behavior on the sphinx rendered scikit-learn.org.\n",
       "     See: https://github.com/scikit-learn/scikit-learn/issues/21755 */\n",
       "  display: inline-block !important;\n",
       "  position: relative;\n",
       "}\n",
       "\n",
       "#sk-container-id-1 div.sk-text-repr-fallback {\n",
       "  display: none;\n",
       "}\n",
       "\n",
       "div.sk-parallel-item,\n",
       "div.sk-serial,\n",
       "div.sk-item {\n",
       "  /* draw centered vertical line to link estimators */\n",
       "  background-image: linear-gradient(var(--sklearn-color-text-on-default-background), var(--sklearn-color-text-on-default-background));\n",
       "  background-size: 2px 100%;\n",
       "  background-repeat: no-repeat;\n",
       "  background-position: center center;\n",
       "}\n",
       "\n",
       "/* Parallel-specific style estimator block */\n",
       "\n",
       "#sk-container-id-1 div.sk-parallel-item::after {\n",
       "  content: \"\";\n",
       "  width: 100%;\n",
       "  border-bottom: 2px solid var(--sklearn-color-text-on-default-background);\n",
       "  flex-grow: 1;\n",
       "}\n",
       "\n",
       "#sk-container-id-1 div.sk-parallel {\n",
       "  display: flex;\n",
       "  align-items: stretch;\n",
       "  justify-content: center;\n",
       "  background-color: var(--sklearn-color-background);\n",
       "  position: relative;\n",
       "}\n",
       "\n",
       "#sk-container-id-1 div.sk-parallel-item {\n",
       "  display: flex;\n",
       "  flex-direction: column;\n",
       "}\n",
       "\n",
       "#sk-container-id-1 div.sk-parallel-item:first-child::after {\n",
       "  align-self: flex-end;\n",
       "  width: 50%;\n",
       "}\n",
       "\n",
       "#sk-container-id-1 div.sk-parallel-item:last-child::after {\n",
       "  align-self: flex-start;\n",
       "  width: 50%;\n",
       "}\n",
       "\n",
       "#sk-container-id-1 div.sk-parallel-item:only-child::after {\n",
       "  width: 0;\n",
       "}\n",
       "\n",
       "/* Serial-specific style estimator block */\n",
       "\n",
       "#sk-container-id-1 div.sk-serial {\n",
       "  display: flex;\n",
       "  flex-direction: column;\n",
       "  align-items: center;\n",
       "  background-color: var(--sklearn-color-background);\n",
       "  padding-right: 1em;\n",
       "  padding-left: 1em;\n",
       "}\n",
       "\n",
       "\n",
       "/* Toggleable style: style used for estimator/Pipeline/ColumnTransformer box that is\n",
       "clickable and can be expanded/collapsed.\n",
       "- Pipeline and ColumnTransformer use this feature and define the default style\n",
       "- Estimators will overwrite some part of the style using the `sk-estimator` class\n",
       "*/\n",
       "\n",
       "/* Pipeline and ColumnTransformer style (default) */\n",
       "\n",
       "#sk-container-id-1 div.sk-toggleable {\n",
       "  /* Default theme specific background. It is overwritten whether we have a\n",
       "  specific estimator or a Pipeline/ColumnTransformer */\n",
       "  background-color: var(--sklearn-color-background);\n",
       "}\n",
       "\n",
       "/* Toggleable label */\n",
       "#sk-container-id-1 label.sk-toggleable__label {\n",
       "  cursor: pointer;\n",
       "  display: block;\n",
       "  width: 100%;\n",
       "  margin-bottom: 0;\n",
       "  padding: 0.5em;\n",
       "  box-sizing: border-box;\n",
       "  text-align: center;\n",
       "}\n",
       "\n",
       "#sk-container-id-1 label.sk-toggleable__label-arrow:before {\n",
       "  /* Arrow on the left of the label */\n",
       "  content: \"▸\";\n",
       "  float: left;\n",
       "  margin-right: 0.25em;\n",
       "  color: var(--sklearn-color-icon);\n",
       "}\n",
       "\n",
       "#sk-container-id-1 label.sk-toggleable__label-arrow:hover:before {\n",
       "  color: var(--sklearn-color-text);\n",
       "}\n",
       "\n",
       "/* Toggleable content - dropdown */\n",
       "\n",
       "#sk-container-id-1 div.sk-toggleable__content {\n",
       "  max-height: 0;\n",
       "  max-width: 0;\n",
       "  overflow: hidden;\n",
       "  text-align: left;\n",
       "  /* unfitted */\n",
       "  background-color: var(--sklearn-color-unfitted-level-0);\n",
       "}\n",
       "\n",
       "#sk-container-id-1 div.sk-toggleable__content.fitted {\n",
       "  /* fitted */\n",
       "  background-color: var(--sklearn-color-fitted-level-0);\n",
       "}\n",
       "\n",
       "#sk-container-id-1 div.sk-toggleable__content pre {\n",
       "  margin: 0.2em;\n",
       "  border-radius: 0.25em;\n",
       "  color: var(--sklearn-color-text);\n",
       "  /* unfitted */\n",
       "  background-color: var(--sklearn-color-unfitted-level-0);\n",
       "}\n",
       "\n",
       "#sk-container-id-1 div.sk-toggleable__content.fitted pre {\n",
       "  /* unfitted */\n",
       "  background-color: var(--sklearn-color-fitted-level-0);\n",
       "}\n",
       "\n",
       "#sk-container-id-1 input.sk-toggleable__control:checked~div.sk-toggleable__content {\n",
       "  /* Expand drop-down */\n",
       "  max-height: 200px;\n",
       "  max-width: 100%;\n",
       "  overflow: auto;\n",
       "}\n",
       "\n",
       "#sk-container-id-1 input.sk-toggleable__control:checked~label.sk-toggleable__label-arrow:before {\n",
       "  content: \"▾\";\n",
       "}\n",
       "\n",
       "/* Pipeline/ColumnTransformer-specific style */\n",
       "\n",
       "#sk-container-id-1 div.sk-label input.sk-toggleable__control:checked~label.sk-toggleable__label {\n",
       "  color: var(--sklearn-color-text);\n",
       "  background-color: var(--sklearn-color-unfitted-level-2);\n",
       "}\n",
       "\n",
       "#sk-container-id-1 div.sk-label.fitted input.sk-toggleable__control:checked~label.sk-toggleable__label {\n",
       "  background-color: var(--sklearn-color-fitted-level-2);\n",
       "}\n",
       "\n",
       "/* Estimator-specific style */\n",
       "\n",
       "/* Colorize estimator box */\n",
       "#sk-container-id-1 div.sk-estimator input.sk-toggleable__control:checked~label.sk-toggleable__label {\n",
       "  /* unfitted */\n",
       "  background-color: var(--sklearn-color-unfitted-level-2);\n",
       "}\n",
       "\n",
       "#sk-container-id-1 div.sk-estimator.fitted input.sk-toggleable__control:checked~label.sk-toggleable__label {\n",
       "  /* fitted */\n",
       "  background-color: var(--sklearn-color-fitted-level-2);\n",
       "}\n",
       "\n",
       "#sk-container-id-1 div.sk-label label.sk-toggleable__label,\n",
       "#sk-container-id-1 div.sk-label label {\n",
       "  /* The background is the default theme color */\n",
       "  color: var(--sklearn-color-text-on-default-background);\n",
       "}\n",
       "\n",
       "/* On hover, darken the color of the background */\n",
       "#sk-container-id-1 div.sk-label:hover label.sk-toggleable__label {\n",
       "  color: var(--sklearn-color-text);\n",
       "  background-color: var(--sklearn-color-unfitted-level-2);\n",
       "}\n",
       "\n",
       "/* Label box, darken color on hover, fitted */\n",
       "#sk-container-id-1 div.sk-label.fitted:hover label.sk-toggleable__label.fitted {\n",
       "  color: var(--sklearn-color-text);\n",
       "  background-color: var(--sklearn-color-fitted-level-2);\n",
       "}\n",
       "\n",
       "/* Estimator label */\n",
       "\n",
       "#sk-container-id-1 div.sk-label label {\n",
       "  font-family: monospace;\n",
       "  font-weight: bold;\n",
       "  display: inline-block;\n",
       "  line-height: 1.2em;\n",
       "}\n",
       "\n",
       "#sk-container-id-1 div.sk-label-container {\n",
       "  text-align: center;\n",
       "}\n",
       "\n",
       "/* Estimator-specific */\n",
       "#sk-container-id-1 div.sk-estimator {\n",
       "  font-family: monospace;\n",
       "  border: 1px dotted var(--sklearn-color-border-box);\n",
       "  border-radius: 0.25em;\n",
       "  box-sizing: border-box;\n",
       "  margin-bottom: 0.5em;\n",
       "  /* unfitted */\n",
       "  background-color: var(--sklearn-color-unfitted-level-0);\n",
       "}\n",
       "\n",
       "#sk-container-id-1 div.sk-estimator.fitted {\n",
       "  /* fitted */\n",
       "  background-color: var(--sklearn-color-fitted-level-0);\n",
       "}\n",
       "\n",
       "/* on hover */\n",
       "#sk-container-id-1 div.sk-estimator:hover {\n",
       "  /* unfitted */\n",
       "  background-color: var(--sklearn-color-unfitted-level-2);\n",
       "}\n",
       "\n",
       "#sk-container-id-1 div.sk-estimator.fitted:hover {\n",
       "  /* fitted */\n",
       "  background-color: var(--sklearn-color-fitted-level-2);\n",
       "}\n",
       "\n",
       "/* Specification for estimator info (e.g. \"i\" and \"?\") */\n",
       "\n",
       "/* Common style for \"i\" and \"?\" */\n",
       "\n",
       ".sk-estimator-doc-link,\n",
       "a:link.sk-estimator-doc-link,\n",
       "a:visited.sk-estimator-doc-link {\n",
       "  float: right;\n",
       "  font-size: smaller;\n",
       "  line-height: 1em;\n",
       "  font-family: monospace;\n",
       "  background-color: var(--sklearn-color-background);\n",
       "  border-radius: 1em;\n",
       "  height: 1em;\n",
       "  width: 1em;\n",
       "  text-decoration: none !important;\n",
       "  margin-left: 1ex;\n",
       "  /* unfitted */\n",
       "  border: var(--sklearn-color-unfitted-level-1) 1pt solid;\n",
       "  color: var(--sklearn-color-unfitted-level-1);\n",
       "}\n",
       "\n",
       ".sk-estimator-doc-link.fitted,\n",
       "a:link.sk-estimator-doc-link.fitted,\n",
       "a:visited.sk-estimator-doc-link.fitted {\n",
       "  /* fitted */\n",
       "  border: var(--sklearn-color-fitted-level-1) 1pt solid;\n",
       "  color: var(--sklearn-color-fitted-level-1);\n",
       "}\n",
       "\n",
       "/* On hover */\n",
       "div.sk-estimator:hover .sk-estimator-doc-link:hover,\n",
       ".sk-estimator-doc-link:hover,\n",
       "div.sk-label-container:hover .sk-estimator-doc-link:hover,\n",
       ".sk-estimator-doc-link:hover {\n",
       "  /* unfitted */\n",
       "  background-color: var(--sklearn-color-unfitted-level-3);\n",
       "  color: var(--sklearn-color-background);\n",
       "  text-decoration: none;\n",
       "}\n",
       "\n",
       "div.sk-estimator.fitted:hover .sk-estimator-doc-link.fitted:hover,\n",
       ".sk-estimator-doc-link.fitted:hover,\n",
       "div.sk-label-container:hover .sk-estimator-doc-link.fitted:hover,\n",
       ".sk-estimator-doc-link.fitted:hover {\n",
       "  /* fitted */\n",
       "  background-color: var(--sklearn-color-fitted-level-3);\n",
       "  color: var(--sklearn-color-background);\n",
       "  text-decoration: none;\n",
       "}\n",
       "\n",
       "/* Span, style for the box shown on hovering the info icon */\n",
       ".sk-estimator-doc-link span {\n",
       "  display: none;\n",
       "  z-index: 9999;\n",
       "  position: relative;\n",
       "  font-weight: normal;\n",
       "  right: .2ex;\n",
       "  padding: .5ex;\n",
       "  margin: .5ex;\n",
       "  width: min-content;\n",
       "  min-width: 20ex;\n",
       "  max-width: 50ex;\n",
       "  color: var(--sklearn-color-text);\n",
       "  box-shadow: 2pt 2pt 4pt #999;\n",
       "  /* unfitted */\n",
       "  background: var(--sklearn-color-unfitted-level-0);\n",
       "  border: .5pt solid var(--sklearn-color-unfitted-level-3);\n",
       "}\n",
       "\n",
       ".sk-estimator-doc-link.fitted span {\n",
       "  /* fitted */\n",
       "  background: var(--sklearn-color-fitted-level-0);\n",
       "  border: var(--sklearn-color-fitted-level-3);\n",
       "}\n",
       "\n",
       ".sk-estimator-doc-link:hover span {\n",
       "  display: block;\n",
       "}\n",
       "\n",
       "/* \"?\"-specific style due to the `<a>` HTML tag */\n",
       "\n",
       "#sk-container-id-1 a.estimator_doc_link {\n",
       "  float: right;\n",
       "  font-size: 1rem;\n",
       "  line-height: 1em;\n",
       "  font-family: monospace;\n",
       "  background-color: var(--sklearn-color-background);\n",
       "  border-radius: 1rem;\n",
       "  height: 1rem;\n",
       "  width: 1rem;\n",
       "  text-decoration: none;\n",
       "  /* unfitted */\n",
       "  color: var(--sklearn-color-unfitted-level-1);\n",
       "  border: var(--sklearn-color-unfitted-level-1) 1pt solid;\n",
       "}\n",
       "\n",
       "#sk-container-id-1 a.estimator_doc_link.fitted {\n",
       "  /* fitted */\n",
       "  border: var(--sklearn-color-fitted-level-1) 1pt solid;\n",
       "  color: var(--sklearn-color-fitted-level-1);\n",
       "}\n",
       "\n",
       "/* On hover */\n",
       "#sk-container-id-1 a.estimator_doc_link:hover {\n",
       "  /* unfitted */\n",
       "  background-color: var(--sklearn-color-unfitted-level-3);\n",
       "  color: var(--sklearn-color-background);\n",
       "  text-decoration: none;\n",
       "}\n",
       "\n",
       "#sk-container-id-1 a.estimator_doc_link.fitted:hover {\n",
       "  /* fitted */\n",
       "  background-color: var(--sklearn-color-fitted-level-3);\n",
       "}\n",
       "</style><div id=\"sk-container-id-1\" class=\"sk-top-container\"><div class=\"sk-text-repr-fallback\"><pre>GridSearchCV(cv=3, estimator=SVC(probability=True),\n",
       "             param_grid=[{&#x27;C&#x27;: [1, 10, 100, 1000],\n",
       "                          &#x27;gamma&#x27;: [0.01, 0.001, 0.0001]}])</pre><b>In a Jupyter environment, please rerun this cell to show the HTML representation or trust the notebook. <br />On GitHub, the HTML representation is unable to render, please try loading this page with nbviewer.org.</b></div><div class=\"sk-container\" hidden><div class=\"sk-item sk-dashed-wrapped\"><div class=\"sk-label-container\"><div class=\"sk-label fitted sk-toggleable\"><input class=\"sk-toggleable__control sk-hidden--visually\" id=\"sk-estimator-id-1\" type=\"checkbox\" ><label for=\"sk-estimator-id-1\" class=\"sk-toggleable__label fitted sk-toggleable__label-arrow fitted\">&nbsp;&nbsp;GridSearchCV<a class=\"sk-estimator-doc-link fitted\" rel=\"noreferrer\" target=\"_blank\" href=\"https://scikit-learn.org/1.5/modules/generated/sklearn.model_selection.GridSearchCV.html\">?<span>Documentation for GridSearchCV</span></a><span class=\"sk-estimator-doc-link fitted\">i<span>Fitted</span></span></label><div class=\"sk-toggleable__content fitted\"><pre>GridSearchCV(cv=3, estimator=SVC(probability=True),\n",
       "             param_grid=[{&#x27;C&#x27;: [1, 10, 100, 1000],\n",
       "                          &#x27;gamma&#x27;: [0.01, 0.001, 0.0001]}])</pre></div> </div></div><div class=\"sk-parallel\"><div class=\"sk-parallel-item\"><div class=\"sk-item\"><div class=\"sk-label-container\"><div class=\"sk-label fitted sk-toggleable\"><input class=\"sk-toggleable__control sk-hidden--visually\" id=\"sk-estimator-id-2\" type=\"checkbox\" ><label for=\"sk-estimator-id-2\" class=\"sk-toggleable__label fitted sk-toggleable__label-arrow fitted\">best_estimator_: SVC</label><div class=\"sk-toggleable__content fitted\"><pre>SVC(C=1000, gamma=0.001, probability=True)</pre></div> </div></div><div class=\"sk-serial\"><div class=\"sk-item\"><div class=\"sk-estimator fitted sk-toggleable\"><input class=\"sk-toggleable__control sk-hidden--visually\" id=\"sk-estimator-id-3\" type=\"checkbox\" ><label for=\"sk-estimator-id-3\" class=\"sk-toggleable__label fitted sk-toggleable__label-arrow fitted\">&nbsp;SVC<a class=\"sk-estimator-doc-link fitted\" rel=\"noreferrer\" target=\"_blank\" href=\"https://scikit-learn.org/1.5/modules/generated/sklearn.svm.SVC.html\">?<span>Documentation for SVC</span></a></label><div class=\"sk-toggleable__content fitted\"><pre>SVC(C=1000, gamma=0.001, probability=True)</pre></div> </div></div></div></div></div></div></div></div></div>"
      ],
      "text/plain": [
       "GridSearchCV(cv=3, estimator=SVC(probability=True),\n",
       "             param_grid=[{'C': [1, 10, 100, 1000],\n",
       "                          'gamma': [0.01, 0.001, 0.0001]}])"
      ]
     },
     "execution_count": 18,
     "metadata": {},
     "output_type": "execute_result"
    }
   ],
   "source": [
    "grid_search = GridSearchCV(classifier, parameters, cv=3)\n",
    "grid_search.fit(x_train, y_train)"
   ]
  },
  {
   "cell_type": "code",
   "execution_count": 19,
   "metadata": {},
   "outputs": [],
   "source": [
    "best_estimator = grid_search.best_estimator_"
   ]
  },
  {
   "cell_type": "markdown",
   "metadata": {},
   "source": [
    " Evaluation"
   ]
  },
  {
   "cell_type": "code",
   "execution_count": 21,
   "metadata": {},
   "outputs": [
    {
     "name": "stdout",
     "output_type": "stream",
     "text": [
      "Validation Accuracy: 95.15%\n"
     ]
    }
   ],
   "source": [
    "y_pred = best_estimator.predict(x_val)\n",
    "accuracy = accuracy_score(y_val, y_pred)\n",
    "print(f\"Validation Accuracy: {accuracy * 100:.2f}%\")"
   ]
  },
  {
   "cell_type": "markdown",
   "metadata": {},
   "source": [
    " Classification report"
   ]
  },
  {
   "cell_type": "code",
   "execution_count": 23,
   "metadata": {},
   "outputs": [
    {
     "name": "stdout",
     "output_type": "stream",
     "text": [
      "              precision    recall  f1-score   support\n",
      "\n",
      "       green       0.98      0.81      0.89       200\n",
      "         red       0.99      0.89      0.94       212\n",
      "     unknown       0.93      1.00      0.96       823\n",
      "      yellow       0.98      0.96      0.97       167\n",
      "\n",
      "    accuracy                           0.95      1402\n",
      "   macro avg       0.97      0.92      0.94      1402\n",
      "weighted avg       0.95      0.95      0.95      1402\n",
      "\n"
     ]
    }
   ],
   "source": [
    "print(classification_report(y_val, y_pred))"
   ]
  },
  {
   "cell_type": "code",
   "execution_count": 75,
   "metadata": {},
   "outputs": [
    {
     "name": "stderr",
     "output_type": "stream",
     "text": [
      "127.0.0.1 - - [04/Dec/2024 12:15:20] \"GET /data HTTP/1.1\" 200 -\n"
     ]
    },
    {
     "data": {
      "image/png": "[encoded data removed]",
      "text/plain": [
       "<Figure size 800x600 with 2 Axes>"
      ]
     },
     "metadata": {},
     "output_type": "display_data"
    }
   ],
   "source": [
    "# Confusion Matrix Plot\n",
    "cm = confusion_matrix(y_val, y_pred, labels=categories)\n",
    "\n",
    "plt.figure(figsize=(8, 6))\n",
    "sns.heatmap(cm, annot=True, fmt='d', cmap='Blues', xticklabels=categories, yticklabels=categories)\n",
    "plt.xlabel('Predicted Labels')\n",
    "plt.ylabel('True Labels')\n",
    "plt.title('Confusion Matrix')\n",
    "plt.show()"
   ]
  },
  {
   "cell_type": "markdown",
   "metadata": {},
   "source": [
    "In[13]:"
   ]
  },
  {
   "cell_type": "code",
   "execution_count": 25,
   "metadata": {},
   "outputs": [],
   "source": [
    "def classify_image_with_unknown(image_path, model, threshold=0.7):\n",
    "   \n",
    "    img = imread(image_path)\n",
    "    ##RGB conversion\n",
    "    if img.shape[-1] == 4:  \n",
    "        img = rgba2rgb(img)\n",
    "    img = resize(img, img_size).flatten()\n",
    "    img = img.reshape(1, -1)  \n",
    "\n",
    "    ## Prediction\n",
    "    probabilities = model.predict_proba(img)\n",
    "    max_confidence = np.max(probabilities)\n",
    "    predicted_class = model.predict(img)[0]\n",
    "    if max_confidence < threshold:\n",
    "        return \"unknown\"\n",
    "    return predicted_class"
   ]
  },
  {
   "cell_type": "markdown",
   "metadata": {},
   "source": [
    "In[14]:"
   ]
  },
  {
   "cell_type": "code",
   "execution_count": 27,
   "metadata": {},
   "outputs": [],
   "source": [
    "model_file_name = r\"E:\\Education\\Projects\\Machine Learning\\Computer Vision\\Malicious-Sign-Detection\\classifier\"  # Specify the filename\n",
    "with open(model_file_name, 'wb') as file:\n",
    "    pickle.dump(best_estimator, file)"
   ]
  },
  {
   "cell_type": "code",
   "execution_count": 28,
   "metadata": {},
   "outputs": [
    {
     "name": "stdout",
     "output_type": "stream",
     "text": [
      "Model saved as E:\\Education\\Projects\\Machine Learning\\Computer Vision\\Malicious-Sign-Detection\\classifier\n"
     ]
    }
   ],
   "source": [
    "print(f\"Model saved as {model_file_name}\")"
   ]
  },
  {
   "cell_type": "markdown",
   "metadata": {},
   "source": [
    "In[16]:"
   ]
  },
  {
   "cell_type": "markdown",
   "metadata": {},
   "source": [
    "Path to the test image"
   ]
  },
  {
   "cell_type": "code",
   "execution_count": 31,
   "metadata": {},
   "outputs": [],
   "source": [
    "test_image_path = r\"E:\\Education\\Projects\\Machine Learning\\Computer Vision\\Malicious-Sign-Detection\\carla_lights\\traffic_light_data\\test\""
   ]
  },
  {
   "cell_type": "markdown",
   "metadata": {},
   "source": [
    "Check if directory exists"
   ]
  },
  {
   "cell_type": "code",
   "execution_count": 33,
   "metadata": {},
   "outputs": [],
   "source": [
    "if not os.path.exists(test_image_path):\n",
    "    print(f\"Error: The directory '{test_images_dir}' does not exist.\")\n",
    "    exit()"
   ]
  },
  {
   "cell_type": "markdown",
   "metadata": {},
   "source": [
    "Iterate through test images and classify them"
   ]
  },
  {
   "cell_type": "code",
   "execution_count": 35,
   "metadata": {},
   "outputs": [],
   "source": [
    "test_results = {}"
   ]
  },
  {
   "cell_type": "code",
   "execution_count": 73,
   "metadata": {},
   "outputs": [
    {
     "name": "stdout",
     "output_type": "stream",
     "text": [
      "Image: traffic_light_frame1044.png, Classification Result: unknown\n",
      "Image: traffic_light_frame116.png, Classification Result: unknown\n",
      "Image: traffic_light_frame120.png, Classification Result: red\n",
      "Image: traffic_light_frame1421.png, Classification Result: unknown\n",
      "Image: traffic_light_frame144.png, Classification Result: red\n",
      "Image: traffic_light_frame145.png, Classification Result: unknown\n",
      "Image: traffic_light_frame1450.png, Classification Result: unknown\n",
      "Image: traffic_light_frame1479.png, Classification Result: unknown\n",
      "Image: traffic_light_frame1508.png, Classification Result: yellow\n",
      "Image: traffic_light_frame1566.png, Classification Result: unknown\n",
      "Image: traffic_light_frame1595.png, Classification Result: unknown\n",
      "Image: traffic_light_frame1624.png, Classification Result: unknown\n",
      "Image: traffic_light_frame1653.png, Classification Result: green\n",
      "Image: traffic_light_frame1682.png, Classification Result: unknown\n",
      "Image: traffic_light_frame1711.png, Classification Result: unknown\n",
      "Image: traffic_light_frame1740.png, Classification Result: unknown\n",
      "Image: traffic_light_frame1769.png, Classification Result: unknown\n",
      "Image: traffic_light_frame1798.png, Classification Result: unknown\n",
      "Image: traffic_light_frame1827.png, Classification Result: unknown\n",
      "Image: traffic_light_frame1856.png, Classification Result: red\n",
      "Image: traffic_light_frame1885.png, Classification Result: red\n",
      "Image: traffic_light_frame1914.png, Classification Result: red\n",
      "Image: traffic_light_frame1943.png, Classification Result: red\n",
      "Image: traffic_light_frame1972.png, Classification Result: red\n",
      "Image: traffic_light_frame2001.png, Classification Result: red\n",
      "Image: traffic_light_frame2030.png, Classification Result: unknown\n",
      "Image: traffic_light_frame2059.png, Classification Result: red\n",
      "Image: traffic_light_frame2088.png, Classification Result: unknown\n",
      "Image: traffic_light_frame2117.png, Classification Result: unknown\n",
      "Image: traffic_light_frame2146.png, Classification Result: red\n",
      "Image: traffic_light_frame2175.png, Classification Result: unknown\n",
      "Image: traffic_light_frame2204.png, Classification Result: unknown\n",
      "Image: traffic_light_frame2233.png, Classification Result: unknown\n",
      "Image: traffic_light_frame2262.png, Classification Result: unknown\n",
      "Image: traffic_light_frame2349.png, Classification Result: unknown\n",
      "Image: traffic_light_frame24.png, Classification Result: red\n",
      "Image: traffic_light_frame2436.png, Classification Result: yellow\n",
      "Image: traffic_light_frame2494.png, Classification Result: unknown\n",
      "Image: traffic_light_frame2697.png, Classification Result: red\n",
      "Image: traffic_light_frame2755.png, Classification Result: unknown\n",
      "Image: traffic_light_frame2813.png, Classification Result: unknown\n",
      "Image: traffic_light_frame2842.png, Classification Result: unknown\n",
      "Image: traffic_light_frame2871.png, Classification Result: unknown\n",
      "Image: traffic_light_frame2900.png, Classification Result: red\n",
      "Image: traffic_light_frame2987.png, Classification Result: unknown\n",
      "Image: traffic_light_frame319.png, Classification Result: unknown\n",
      "Image: traffic_light_frame3248.png, Classification Result: unknown\n",
      "Image: traffic_light_frame3393.png, Classification Result: unknown\n",
      "Image: traffic_light_frame3451.png, Classification Result: unknown\n",
      "Image: traffic_light_frame348.png, Classification Result: unknown\n",
      "Image: traffic_light_frame3538.png, Classification Result: unknown\n",
      "Image: traffic_light_frame3567.png, Classification Result: unknown\n",
      "Image: traffic_light_frame3596.png, Classification Result: red\n",
      "Image: traffic_light_frame3683.png, Classification Result: unknown\n",
      "Image: traffic_light_frame377.png, Classification Result: unknown\n",
      "Image: traffic_light_frame3799.png, Classification Result: unknown\n",
      "Image: traffic_light_frame3886.png, Classification Result: unknown\n",
      "Image: traffic_light_frame3915.png, Classification Result: unknown\n",
      "Image: traffic_light_frame406.png, Classification Result: unknown\n",
      "Image: traffic_light_frame4060.png, Classification Result: unknown\n",
      "Image: traffic_light_frame4089.png, Classification Result: unknown\n",
      "Image: traffic_light_frame4118.png, Classification Result: unknown\n",
      "Image: traffic_light_frame4147.png, Classification Result: unknown\n",
      "Image: traffic_light_frame4176.png, Classification Result: unknown\n",
      "Image: traffic_light_frame4205.png, Classification Result: yellow\n",
      "Image: traffic_light_frame4234.png, Classification Result: unknown\n",
      "Image: traffic_light_frame4263.png, Classification Result: unknown\n",
      "Image: traffic_light_frame4292.png, Classification Result: yellow\n",
      "Image: traffic_light_frame4321.png, Classification Result: green\n",
      "Image: traffic_light_frame4350.png, Classification Result: green\n",
      "Image: traffic_light_frame4379.png, Classification Result: green\n",
      "Image: traffic_light_frame4408.png, Classification Result: green\n",
      "Image: traffic_light_frame4437.png, Classification Result: unknown\n",
      "Image: traffic_light_frame4466.png, Classification Result: green\n",
      "Image: traffic_light_frame4495.png, Classification Result: green\n",
      "Image: traffic_light_frame4524.png, Classification Result: unknown\n",
      "Image: traffic_light_frame4553.png, Classification Result: unknown\n",
      "Image: traffic_light_frame4582.png, Classification Result: unknown\n",
      "Image: traffic_light_frame4611.png, Classification Result: unknown\n",
      "Image: traffic_light_frame464.png, Classification Result: unknown\n",
      "Image: traffic_light_frame4727.png, Classification Result: unknown\n",
      "Image: traffic_light_frame48.png, Classification Result: red\n",
      "Image: traffic_light_frame4814.png, Classification Result: unknown\n",
      "Image: traffic_light_frame4901.png, Classification Result: unknown\n",
      "Image: traffic_light_frame493.png, Classification Result: unknown\n",
      "Image: traffic_light_frame4959.png, Classification Result: unknown\n",
      "Image: traffic_light_frame4988.png, Classification Result: unknown\n",
      "Image: traffic_light_frame5046.png, Classification Result: unknown\n",
      "Image: traffic_light_frame5133.png, Classification Result: unknown\n",
      "Image: traffic_light_frame522.png, Classification Result: unknown\n",
      "Image: traffic_light_frame5220.png, Classification Result: unknown\n",
      "Image: traffic_light_frame5249.png, Classification Result: unknown\n",
      "Image: traffic_light_frame5278.png, Classification Result: unknown\n",
      "Image: traffic_light_frame5307.png, Classification Result: unknown\n",
      "Image: traffic_light_frame5336.png, Classification Result: unknown\n",
      "Image: traffic_light_frame5365.png, Classification Result: unknown\n",
      "Image: traffic_light_frame5394.png, Classification Result: unknown\n",
      "Image: traffic_light_frame5423.png, Classification Result: red\n",
      "Image: traffic_light_frame5452.png, Classification Result: unknown\n",
      "Image: traffic_light_frame5481.png, Classification Result: unknown\n",
      "Image: traffic_light_frame5626.png, Classification Result: unknown\n",
      "Image: traffic_light_frame5655.png, Classification Result: red\n",
      "Image: traffic_light_frame5684.png, Classification Result: unknown\n",
      "Image: traffic_light_frame580.png, Classification Result: unknown\n",
      "Image: traffic_light_frame5800.png, Classification Result: red\n",
      "Image: traffic_light_frame5829.png, Classification Result: unknown\n",
      "Image: traffic_light_frame609.png, Classification Result: unknown\n",
      "Image: traffic_light_frame6119.png, Classification Result: unknown\n",
      "Image: traffic_light_frame6148.png, Classification Result: unknown\n",
      "Image: traffic_light_frame6177.png, Classification Result: unknown\n",
      "Image: traffic_light_frame6206.png, Classification Result: unknown\n",
      "Image: traffic_light_frame6235.png, Classification Result: unknown\n",
      "Image: traffic_light_frame6264.png, Classification Result: unknown\n",
      "Image: traffic_light_frame638.png, Classification Result: unknown\n",
      "Image: traffic_light_frame6438.png, Classification Result: unknown\n",
      "Image: traffic_light_frame6496.png, Classification Result: unknown\n",
      "Image: traffic_light_frame6525.png, Classification Result: unknown\n",
      "Image: traffic_light_frame6554.png, Classification Result: unknown\n",
      "Image: traffic_light_frame6583.png, Classification Result: unknown\n",
      "Image: traffic_light_frame6612.png, Classification Result: unknown\n",
      "Image: traffic_light_frame6641.png, Classification Result: unknown\n",
      "Image: traffic_light_frame6670.png, Classification Result: unknown\n",
      "Image: traffic_light_frame6699.png, Classification Result: unknown\n",
      "Image: traffic_light_frame6728.png, Classification Result: unknown\n",
      "Image: traffic_light_frame6757.png, Classification Result: unknown\n",
      "Image: traffic_light_frame6786.png, Classification Result: unknown\n",
      "Image: traffic_light_frame6815.png, Classification Result: unknown\n",
      "Image: traffic_light_frame6844.png, Classification Result: unknown\n",
      "Image: traffic_light_frame6873.png, Classification Result: unknown\n",
      "Image: traffic_light_frame6902.png, Classification Result: unknown\n",
      "Image: traffic_light_frame6931.png, Classification Result: unknown\n",
      "Image: traffic_light_frame6960.png, Classification Result: unknown\n",
      "Image: traffic_light_frame6989.png, Classification Result: unknown\n",
      "Image: traffic_light_frame7018.png, Classification Result: unknown\n",
      "Image: traffic_light_frame7047.png, Classification Result: unknown\n",
      "Image: traffic_light_frame7076.png, Classification Result: unknown\n",
      "Image: traffic_light_frame7105.png, Classification Result: unknown\n",
      "Image: traffic_light_frame7134.png, Classification Result: unknown\n",
      "Image: traffic_light_frame7163.png, Classification Result: unknown\n",
      "Image: traffic_light_frame7192.png, Classification Result: unknown\n",
      "Image: traffic_light_frame72.png, Classification Result: red\n",
      "Image: traffic_light_frame7221.png, Classification Result: unknown\n",
      "Image: traffic_light_frame7250.png, Classification Result: unknown\n",
      "Image: traffic_light_frame7279.png, Classification Result: unknown\n",
      "Image: traffic_light_frame7308.png, Classification Result: unknown\n",
      "Image: traffic_light_frame7337.png, Classification Result: unknown\n",
      "Image: traffic_light_frame7366.png, Classification Result: unknown\n",
      "Image: traffic_light_frame7395.png, Classification Result: unknown\n",
      "Image: traffic_light_frame7424.png, Classification Result: unknown\n",
      "Image: traffic_light_frame7453.png, Classification Result: unknown\n",
      "Image: traffic_light_frame7482.png, Classification Result: unknown\n",
      "Image: traffic_light_frame7511.png, Classification Result: unknown\n",
      "Image: traffic_light_frame754.png, Classification Result: unknown\n",
      "Image: traffic_light_frame7540.png, Classification Result: unknown\n",
      "Image: traffic_light_frame7569.png, Classification Result: unknown\n",
      "Image: traffic_light_frame7598.png, Classification Result: unknown\n",
      "Image: traffic_light_frame7627.png, Classification Result: unknown\n",
      "Image: traffic_light_frame7656.png, Classification Result: unknown\n",
      "Image: traffic_light_frame7685.png, Classification Result: unknown\n",
      "Image: traffic_light_frame7714.png, Classification Result: unknown\n",
      "Image: traffic_light_frame7743.png, Classification Result: unknown\n",
      "Image: traffic_light_frame7772.png, Classification Result: unknown\n",
      "Image: traffic_light_frame7801.png, Classification Result: unknown\n",
      "Image: traffic_light_frame7859.png, Classification Result: unknown\n",
      "Image: traffic_light_frame7888.png, Classification Result: unknown\n",
      "Image: traffic_light_frame7917.png, Classification Result: red\n",
      "Image: traffic_light_frame7946.png, Classification Result: red\n",
      "Image: traffic_light_frame7975.png, Classification Result: unknown\n",
      "Image: traffic_light_frame8004.png, Classification Result: unknown\n",
      "Image: traffic_light_frame8033.png, Classification Result: red\n",
      "Image: traffic_light_frame8062.png, Classification Result: unknown\n",
      "Image: traffic_light_frame8091.png, Classification Result: red\n",
      "Image: traffic_light_frame8120.png, Classification Result: red\n",
      "Image: traffic_light_frame8149.png, Classification Result: unknown\n",
      "Image: traffic_light_frame8178.png, Classification Result: unknown\n",
      "Image: traffic_light_frame8207.png, Classification Result: red\n",
      "Image: traffic_light_frame8236.png, Classification Result: unknown\n",
      "Image: traffic_light_frame8294.png, Classification Result: red\n",
      "Image: traffic_light_frame841.png, Classification Result: unknown\n",
      "Image: traffic_light_frame957.png, Classification Result: unknown\n",
      "Image: traffic_light_frame96.png, Classification Result: red\n",
      "Image: traffic_light_frame986.png, Classification Result: unknown\n"
     ]
    }
   ],
   "source": [
    "for file in os.listdir(test_image_path):\n",
    "    image_path = os.path.join(test_image_path, file)\n",
    "    if os.path.isfile(image_path) and file.endswith(('.png', '.jpg', '.jpeg')):\n",
    "        # Classify the image\n",
    "        result = classify_image_with_unknown(image_path, best_estimator, threshold=0.5)\n",
    "        test_results[file] = result\n",
    "        print(f\"Image: {file}, Classification Result: {result}\")\n",
    "    else:\n",
    "        print(f\"Skipping {file}: Not a valid image file.\")"
   ]
  },
  {
   "cell_type": "code",
   "execution_count": 37,
   "metadata": {},
   "outputs": [],
   "source": [
    "end_time = time.time()"
   ]
  },
  {
   "cell_type": "markdown",
   "metadata": {},
   "source": [
    "etrics to be streamed"
   ]
  },
  {
   "cell_type": "code",
   "execution_count": 39,
   "metadata": {},
   "outputs": [],
   "source": [
    "execution_time = end_time - start_time\n",
    "report = classification_report(y_val, y_pred, output_dict=True)\n",
    "precision_macro = report['macro avg']['precision']\n",
    "recall_macro = report['macro avg']['recall']\n",
    "f1_score_macro = report['macro avg']['f1-score']\n",
    "support_macro = report['macro avg']['support']"
   ]
  },
  {
   "cell_type": "code",
   "execution_count": 40,
   "metadata": {},
   "outputs": [],
   "source": [
    "metrics = {\n",
    "    \"Classification_Result\": result,\n",
    "    \"Validation_Accuracy\": accuracy,\n",
    "    \"Execution_Time\": execution_time,\n",
    "    \"Macro_Precision\": precision_macro,\n",
    "    \"Macro_Recall\": recall_macro,\n",
    "    \"Macro_F1_score\": f1_score_macro,\n",
    "    \"Macro_Support\": support_macro,\n",
    "    \"Test_Results\" : test_results\n",
    "}"
   ]
  },
  {
   "cell_type": "code",
   "execution_count": 41,
   "metadata": {},
   "outputs": [],
   "source": [
    "def run_flask():\n",
    "    app.run(debug=False, port=5000)"
   ]
  },
  {
   "cell_type": "code",
   "execution_count": 42,
   "metadata": {},
   "outputs": [],
   "source": [
    "@app.route('/data', methods=['GET'])\n",
    "def get_data():\n",
    "    return jsonify(metrics), 200"
   ]
  },
  {
   "cell_type": "code",
   "execution_count": 43,
   "metadata": {},
   "outputs": [],
   "source": [
    "if __name__ == '__main__':\n",
    "    threading.Thread(target=run_flask, daemon=True).start()"
   ]
  },
  {
   "cell_type": "markdown",
   "metadata": {},
   "source": [
    "In[ ]:"
   ]
  },
  {
   "cell_type": "markdown",
   "metadata": {},
   "source": [
    "In[ ]:"
   ]
  }
 ],
 "metadata": {
  "kernelspec": {
   "display_name": "Python 3 (ipykernel)",
   "language": "python",
   "name": "python3"
  },
  "language_info": {
   "codemirror_mode": {
    "name": "ipython",
    "version": 3
   },
   "file_extension": ".py",
   "mimetype": "text/x-python",
   "name": "python",
   "nbconvert_exporter": "python",
   "pygments_lexer": "ipython3",
   "version": "3.12.4"
  }
 },
 "nbformat": 4,
 "nbformat_minor": 4
}

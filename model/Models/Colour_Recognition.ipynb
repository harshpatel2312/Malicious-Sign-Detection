{
 "cells": [
  {
   "cell_type": "code",
   "execution_count": 3,
   "id": "4c3cfed7-4525-435f-98fc-a1847e58ce23",
   "metadata": {},
   "outputs": [],
   "source": [
    "import numpy as np\n",
    "import pandas as pd\n",
    "import cv2"
   ]
  },
  {
   "cell_type": "code",
   "execution_count": 4,
   "id": "c1c6f0a7-4c6b-4735-810b-c8d353571bcd",
   "metadata": {},
   "outputs": [],
   "source": [
    "img = cv2.imread(\"Traffic Light.jpg\")"
   ]
  },
  {
   "cell_type": "code",
   "execution_count": 5,
   "id": "4d64d4dd-109f-4171-bd15-e75fa945b167",
   "metadata": {},
   "outputs": [],
   "source": [
    "#Setting Index values\n",
    "index = [\"color\", \"color_name\", \"hex\", \"R\", \"G\", \"B\"]\n",
    "df = pd.read_csv(\"colors.csv\", names = index, header = None)"
   ]
  },
  {
   "cell_type": "code",
   "execution_count": 6,
   "id": "87ad2516-e0d0-4928-ae94-db298c0166b6",
   "metadata": {},
   "outputs": [],
   "source": [
    "#Defining the global variables\n",
    "clicked = False\n",
    "r = g = b = xpos = ypos = 0"
   ]
  },
  {
   "cell_type": "code",
   "execution_count": 7,
   "id": "368cc094-5c6d-43d1-9d77-a7e6d17e41f1",
   "metadata": {},
   "outputs": [],
   "source": [
    "def recognize_color(R, G, B):\n",
    "    minimum = 10000\n",
    "    for i in range(len(df)):\n",
    "        #Manhattan Distance Formula (Calculates the difference in the actual and csv RGB color values)\n",
    "        d = abs(R - int(df.loc[i, \"R\"])) + abs(G - int(df.loc[i, \"G\"])) + abs(B - int(df.loc[i, \"B\"]))\n",
    "        if (d <= minimum):\n",
    "            minimum = d\n",
    "            cname = df.loc[i, \"color_name\"]\n",
    "    return cname"
   ]
  },
  {
   "cell_type": "code",
   "execution_count": 8,
   "id": "b092ecf3-5d98-4102-a9f3-f38df23c2702",
   "metadata": {},
   "outputs": [],
   "source": [
    "def mouse_click(event, x, y, flags, param):\n",
    "    if event == cv2.EVENT_LBUTTONDBLCLK:\n",
    "        global b, g, r, xpos, ypos, clicked\n",
    "        clicked = True\n",
    "        xpos = x\n",
    "        ypos = y\n",
    "        b, g, r = img[y, x]\n",
    "        b = int(b)\n",
    "        g = int(g)\n",
    "        r = int(r)"
   ]
  },
  {
   "cell_type": "code",
   "execution_count": 18,
   "id": "18e8adff-6004-4d64-8165-ddfe2a2cfc37",
   "metadata": {},
   "outputs": [
    {
     "name": "stdout",
     "output_type": "stream",
     "text": [
      "Salmon R = 255 G = 131 B = 97\n"
     ]
    }
   ],
   "source": [
    "cv2.namedWindow(\"Color Recognition\")\n",
    "cv2.setMouseCallback(\"Color Recognition\", mouse_click)\n",
    "\n",
    "with open(\"Retrieved Colors.txt\", \"w\") as f:\n",
    "    while True:\n",
    "        cv2.imshow(\"Color Recognition\", img)\n",
    "        if (clicked):\n",
    "            #Recognize Color\n",
    "            text = recognize_color(r, g, b) + \" R = \" + str(r) + \" G = \" + str(g) + \" B = \" + str(b)\n",
    "            f.write(text + \"\\n\")\n",
    "            print(text)\n",
    "            \n",
    "            clicked = False\n",
    "        if cv2.waitKey(20) & 0xFF == 27:\n",
    "            break\n",
    "\n",
    "cv2.destroyAllWindows()"
   ]
  },
  {
   "cell_type": "code",
   "execution_count": null,
   "id": "2790ece1-a314-4227-bbe8-7343908dc4e7",
   "metadata": {},
   "outputs": [],
   "source": []
  }
 ],
 "metadata": {
  "kernelspec": {
   "display_name": "Python 3 (ipykernel)",
   "language": "python",
   "name": "python3"
  },
  "language_info": {
   "codemirror_mode": {
    "name": "ipython",
    "version": 3
   },
   "file_extension": ".py",
   "mimetype": "text/x-python",
   "name": "python",
   "nbconvert_exporter": "python",
   "pygments_lexer": "ipython3",
   "version": "3.12.4"
  }
 },
 "nbformat": 4,
 "nbformat_minor": 5
}

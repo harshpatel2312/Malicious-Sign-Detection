{
 "cells": [
  {
   "cell_type": "code",
   "execution_count": null,
   "id": "3ccccde6-7663-48f0-9be8-c29d30135007",
   "metadata": {},
   "outputs": [],
   "source": [
    "import os\n",
    "import pickle\n",
    "import numpy as np\n",
    "from skimage.io import imread\n",
    "from skimage.transform import resize\n",
    "from skimage.color import rgba2rgb, gray2rgb\n",
    "import threading"
   ]
  },
  {
   "cell_type": "code",
   "execution_count": null,
   "id": "957ef3f1-68df-4878-9840-2aabd9b2508e",
   "metadata": {},
   "outputs": [],
   "source": [
    "def classify_image_with_unknown(image_path, model, threshold=0.7):\n",
    "   \n",
    "    img = imread(image_path)\n",
    "    ##RGB conversion\n",
    "    if len(img.shape) == 2:\n",
    "        img = gray2rgb(img)\n",
    "    elif img.shape[-1] == 4:\n",
    "        img = rgba2rgb(img)\n",
    "\n",
    "    #Prediction\n",
    "    img = resize(img, img_size, anti_aliasing=True).flatten()\n",
    "    probabilities = model.predict_proba(img.reshape(1, -1))\n",
    "    max_confidence = np.max(probabilities)\n",
    "    \n",
    "    return model.predict(img.reshape(1, -1))[0] if max_confidence >= threshold else \"unknown\""
   ]
  },
  {
   "cell_type": "code",
   "execution_count": null,
   "id": "59d487d5-0b60-4b95-bf69-b14b260e8c0a",
   "metadata": {},
   "outputs": [],
   "source": [
    "def test(test_image_path, test_results, best_estimator):\n",
    "    if not os.path.exists(test_image_path):\n",
    "        print(f\"Error: The directory '{test_image_path}' does not exist.\")\n",
    "        exit()\n",
    "\n",
    "    for file in os.listdir(test_image_path):\n",
    "        image_path = os.path.join(test_image_path, file)\n",
    "        if os.path.isfile(image_path) and file.endswith(('.png', '.jpg', '.jpeg')):\n",
    "            # Classify the image\n",
    "            result = classify_image_with_unknown(image_path, best_estimator, threshold=0.7)\n",
    "            test_results[file] = result\n",
    "            print(f\"Image: {file}, Classification Result: {result}\")\n",
    "        else:\n",
    "            print(f\"Skipping {file}: Not a valid image file.\")"
   ]
  },
  {
   "cell_type": "code",
   "execution_count": null,
   "id": "d01e30ba-7a03-40e4-bfc7-103f120bc563",
   "metadata": {},
   "outputs": [],
   "source": [
    "from flask import Flask, jsonify\n",
    "app = Flask(__name__)"
   ]
  },
  {
   "cell_type": "code",
   "execution_count": null,
   "id": "895c2767-0498-4701-a468-89d19593d04b",
   "metadata": {},
   "outputs": [],
   "source": [
    "# Loading the trained model\n",
    "img_size = (15, 15)\n",
    "\n",
    "model_file_name = r\"classifier\"\n",
    "with open(model_file_name, 'rb') as file:\n",
    "    best_estimator = pickle.load(file)\n",
    "\n",
    "test_image_path = r\"../../traffic_light_data/test\"\n",
    "test_results = {}\n",
    "\n",
    "test(test_image_path, test_results, best_estimator)"
   ]
  },
  {
   "cell_type": "code",
   "execution_count": null,
   "id": "cf04c6e1-84e1-4255-95d5-846f3f9f24b4",
   "metadata": {},
   "outputs": [],
   "source": [
    "# Loading calssification_report\n",
    "with open('Scripts/Resources/classification_report', 'rb') as f:\n",
    "    report = pickle.load(f)"
   ]
  },
  {
   "cell_type": "code",
   "execution_count": null,
   "id": "6a9f1bda-8c1e-45c2-8611-b97d438f89b5",
   "metadata": {},
   "outputs": [],
   "source": [
    "def run_flask():\n",
    "    app.run(host='0.0.0.0', debug=False, port=5000)"
   ]
  },
  {
   "cell_type": "code",
   "execution_count": null,
   "id": "5db80fbc-0ed1-42b7-a70b-ffa241205081",
   "metadata": {},
   "outputs": [],
   "source": [
    "@app.route('/data', methods=['GET'])\n",
    "def get_data():\n",
    "    return jsonify(report), 200"
   ]
  },
  {
   "cell_type": "code",
   "execution_count": null,
   "id": "5c83c737-426e-4f0b-93a6-59ecad2f33b9",
   "metadata": {},
   "outputs": [],
   "source": [
    "threading.Thread(target=run_flask, daemon=True).start()"
   ]
  }
 ],
 "metadata": {
  "kernelspec": {
   "display_name": "Python 3",
   "language": "python",
   "name": "python3"
  },
  "language_info": {
   "codemirror_mode": {
    "name": "ipython",
    "version": 3
   },
   "file_extension": ".py",
   "mimetype": "text/x-python",
   "name": "python",
   "nbconvert_exporter": "python",
   "pygments_lexer": "ipython3",
   "version": "3.11.0"
  }
 },
 "nbformat": 4,
 "nbformat_minor": 5
}

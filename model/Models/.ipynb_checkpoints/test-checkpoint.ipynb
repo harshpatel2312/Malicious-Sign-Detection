{
 "cells": [
  {
   "cell_type": "code",
   "execution_count": 1,
   "id": "3ccccde6-7663-48f0-9be8-c29d30135007",
   "metadata": {},
   "outputs": [],
   "source": [
    "import os\n",
    "import pickle\n",
    "import numpy as np\n",
    "from skimage.io import imread\n",
    "from skimage.transform import resize\n",
    "from skimage.color import rgba2rgb"
   ]
  },
  {
   "cell_type": "code",
   "execution_count": 2,
   "id": "957ef3f1-68df-4878-9840-2aabd9b2508e",
   "metadata": {},
   "outputs": [],
   "source": [
    "def classify_image_with_unknown(image_path, model, threshold=0.7):\n",
    "   \n",
    "    img = imread(image_path)\n",
    "    ##RGB conversion\n",
    "    if img.shape[-1] == 4:  \n",
    "        img = rgba2rgb(img)\n",
    "    img = resize(img, img_size).flatten()\n",
    "    img = img.reshape(1, -1)  \n",
    "\n",
    "    ## Prediction\n",
    "    probabilities = model.predict_proba(img)\n",
    "    max_confidence = np.max(probabilities)\n",
    "    predicted_class = model.predict(img)[0]\n",
    "    if max_confidence < threshold:\n",
    "        return \"unknown\"\n",
    "    return predicted_class"
   ]
  },
  {
   "cell_type": "code",
   "execution_count": 3,
   "id": "59d487d5-0b60-4b95-bf69-b14b260e8c0a",
   "metadata": {},
   "outputs": [],
   "source": [
    "def pred_test(test_image_path, test_results, best_estimator):\n",
    "    if not os.path.exists(test_image_path):\n",
    "        print(f\"Error: The directory '{test_images_dir}' does not exist.\")\n",
    "        exit()\n",
    "\n",
    "    for file in os.listdir(test_image_path):\n",
    "        image_path = os.path.join(test_image_path, file)\n",
    "        if os.path.isfile(image_path) and file.endswith(('.png', '.jpg', '.jpeg')):\n",
    "            # Classify the image\n",
    "            result = classify_image_with_unknown(image_path, best_estimator, threshold=0.5)\n",
    "            test_results[file] = result\n",
    "            print(f\"Image: {file}, Classification Result: {result}\")\n",
    "        else:\n",
    "            print(f\"Skipping {file}: Not a valid image file.\")"
   ]
  },
  {
   "cell_type": "code",
   "execution_count": 4,
   "id": "895c2767-0498-4701-a468-89d19593d04b",
   "metadata": {},
   "outputs": [
    {
     "name": "stdout",
     "output_type": "stream",
     "text": [
      "Image: traffic_light_frame115.png, Classification Result: unknown\n",
      "Image: traffic_light_frame138.png, Classification Result: unknown\n",
      "Image: traffic_light_frame161.png, Classification Result: green\n",
      "Image: traffic_light_frame184.png, Classification Result: unknown\n",
      "Image: traffic_light_frame207.png, Classification Result: green\n",
      "Image: traffic_light_frame23.png, Classification Result: green\n",
      "Image: traffic_light_frame230.png, Classification Result: unknown\n",
      "Image: traffic_light_frame46.png, Classification Result: unknown\n",
      "Image: traffic_light_frame69.png, Classification Result: unknown\n",
      "Image: traffic_light_frame92.png, Classification Result: unknown\n"
     ]
    }
   ],
   "source": [
    "# Loading the trained model\n",
    "img_size = (15, 15)\n",
    "\n",
    "model_file_name = r\"E:\\Education\\Projects\\Machine Learning\\Computer Vision\\Malicious-Sign-Detection\\model\\Models\\classifier\"\n",
    "with open(model_file_name, 'rb') as file:\n",
    "    best_estimator = pickle.load(file)\n",
    "\n",
    "test_image_path = r\"E:\\Education\\Projects\\Machine Learning\\Computer Vision\\Malicious-Sign-Detection\\carla_lights\\traffic_light_data\\test\"\n",
    "test_results = {}\n",
    "\n",
    "pred_test(test_image_path, test_results, best_estimator)"
   ]
  },
  {
   "cell_type": "code",
   "execution_count": null,
   "id": "29755b59-312c-478f-9783-006086182145",
   "metadata": {},
   "outputs": [],
   "source": []
  }
 ],
 "metadata": {
  "kernelspec": {
   "display_name": "Python 3 (ipykernel)",
   "language": "python",
   "name": "python3"
  },
  "language_info": {
   "codemirror_mode": {
    "name": "ipython",
    "version": 3
   },
   "file_extension": ".py",
   "mimetype": "text/x-python",
   "name": "python",
   "nbconvert_exporter": "python",
   "pygments_lexer": "ipython3",
   "version": "3.12.4"
  }
 },
 "nbformat": 4,
 "nbformat_minor": 5
}

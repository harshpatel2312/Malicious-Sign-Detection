{
 "cells": [
  {
   "cell_type": "code",
   "execution_count": 40,
   "id": "b0ee42f4-09d1-43e3-9a34-e33bb2e41cb9",
   "metadata": {},
   "outputs": [],
   "source": [
    "import cv2\n",
    "from Scripts.Colour_Recognition import Recognize_Color\n",
    "from Scripts.Circle_Detection import Detect_Circles"
   ]
  },
  {
   "cell_type": "code",
   "execution_count": 41,
   "id": "d8eb2be5-eb02-43ad-87ee-896e5e34b502",
   "metadata": {},
   "outputs": [],
   "source": [
    "img = cv2.imread(\"E:/Education/Projects/Machine Learning/Computer Vision/MSD Models/Resources/Images/Traffic Light.jpg\")"
   ]
  },
  {
   "cell_type": "code",
   "execution_count": 42,
   "id": "f997b1ac-c445-477f-8152-11e2164f261d",
   "metadata": {},
   "outputs": [
    {
     "name": "stdout",
     "output_type": "stream",
     "text": [
      "Color : Red (Pigment) detected with [R = 252, G = 31, B = 38] and Radius = 45 with thier Center = (316, 158)\n"
     ]
    }
   ],
   "source": [
    "circles = Detect_Circles(img)\n",
    "\n",
    "with open(\"E:/Education/Projects/Machine Learning/Computer Vision/MSD Models/Resources/Files/Retrieved Colors.txt\", \"w\") as File:\n",
    "    if circles is not None:\n",
    "        for i in circles[0, :]:\n",
    "            center = (i[0], i[1])\n",
    "            radius = i[2]\n",
    "\n",
    "            cv2.circle(img, center, radius, (255, 0, 255), 3)\n",
    "            b, g, r = img[center[1], center[0]]\n",
    "            color_name = Recognize_Color(r, g, b)\n",
    "\n",
    "            text = f\"Color : {color_name} detected with [R = {r}, G = {g}, B = {b}] and Radius = {radius} with thier Center = {center}\"\n",
    "            #File.write(text + \"\\n\")\n",
    "            print(text)\n",
    "            \n",
    "cv2.imshow(\"Traffic Light Color Detection\", img)     \n",
    "cv2.waitKey(0)\n",
    "cv2.destroyAllWindows()"
   ]
  },
  {
   "cell_type": "code",
   "execution_count": null,
   "id": "36dfdfaf-e75d-460b-91af-57e0318ce515",
   "metadata": {},
   "outputs": [],
   "source": []
  }
 ],
 "metadata": {
  "kernelspec": {
   "display_name": "Python 3 (ipykernel)",
   "language": "python",
   "name": "python3"
  },
  "language_info": {
   "codemirror_mode": {
    "name": "ipython",
    "version": 3
   },
   "file_extension": ".py",
   "mimetype": "text/x-python",
   "name": "python",
   "nbconvert_exporter": "python",
   "pygments_lexer": "ipython3",
   "version": "3.12.4"
  }
 },
 "nbformat": 4,
 "nbformat_minor": 5
}

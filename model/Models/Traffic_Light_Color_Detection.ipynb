{
 "cells": [
  {
   "cell_type": "code",
   "execution_count": 2,
   "id": "b0ee42f4-09d1-43e3-9a34-e33bb2e41cb9",
   "metadata": {},
   "outputs": [],
   "source": [
    "import cv2\n",
    "import os\n",
    "import ctypes\n",
    "from Scripts.Colour_Recognition import Recognize_Color\n",
    "from Scripts.Circle_Detection import Detect_Circles"
   ]
  },
  {
   "cell_type": "code",
   "execution_count": 3,
   "id": "2b540f60-a095-4306-9ba5-4a1fe29c532d",
   "metadata": {},
   "outputs": [],
   "source": [
    "# Path to the folder containing saved frames\n",
    "input_dir = r\"E:\\Education\\Projects\\Machine Learning\\Computer Vision\\MSD Models\\Resources\\Images\\Saved Frames\""
   ]
  },
  {
   "cell_type": "code",
   "execution_count": 4,
   "id": "4c5b23ad-30ad-4d88-bd03-2e2d0a9e891d",
   "metadata": {},
   "outputs": [
    {
     "name": "stdout",
     "output_type": "stream",
     "text": [
      "Error: Could not read .ipynb_checkpoints. Skipping.\n"
     ]
    }
   ],
   "source": [
    "for file_name in os.listdir(input_dir):\n",
    "    file_path = os.path.join(input_dir, file_name)\n",
    "    frame = cv2.imread(file_path)\n",
    "\n",
    "    if frame is None:\n",
    "        print(f\"Error: Could not read {file_name}. Skipping.\")\n",
    "        continue\n",
    "\n",
    "    # Detect circles in the frame\n",
    "    circles = Detect_Circles(frame)\n",
    "\n",
    "    if circles is not None:\n",
    "        for i in circles[0, :]:\n",
    "            center = (i[0], i[1])\n",
    "            radius = i[2]\n",
    "\n",
    "            # Draw the circle\n",
    "            cv2.circle(frame, center, radius, (255, 0, 255), 3)\n",
    "\n",
    "            # Get RGB values of the center of the circle\n",
    "            b, g, r = frame[center[1], center[0]]\n",
    "            color_name = Recognize_Color(r, g, b)\n",
    "\n",
    "            # Display the color name on the circle\n",
    "            text = f\"{color_name} [R={r}, G={g}, B={b}]\"\n",
    "            cv2.putText(frame, text, (center[0] - 40, center[1] - 10),\n",
    "                        cv2.FONT_HERSHEY_SIMPLEX, 0.5, (0, 255, 0), 1)\n",
    "\n",
    "    # Show the processed frame\n",
    "    cv2.imshow(\"Traffic Light Color Detection\", frame)\n",
    "    cv2.waitKey(1000)  # Display each frame for 1 second\n",
    "\n",
    "cv2.destroyAllWindows()"
   ]
  }
 ],
 "metadata": {
  "kernelspec": {
   "display_name": "Python 3 (ipykernel)",
   "language": "python",
   "name": "python3"
  },
  "language_info": {
   "codemirror_mode": {
    "name": "ipython",
    "version": 3
   },
   "file_extension": ".py",
   "mimetype": "text/x-python",
   "name": "python",
   "nbconvert_exporter": "python",
   "pygments_lexer": "ipython3",
   "version": "3.12.4"
  }
 },
 "nbformat": 4,
 "nbformat_minor": 5
}

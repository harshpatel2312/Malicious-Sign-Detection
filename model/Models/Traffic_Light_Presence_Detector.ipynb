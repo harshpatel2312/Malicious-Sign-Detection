{
 "cells": [
  {
   "cell_type": "code",
   "execution_count": null,
   "id": "fe065ced-8514-4c5e-b9a2-b2ccf89f5521",
   "metadata": {},
   "outputs": [],
   "source": [
    "import cv2\n",
    "import os\n",
    "from screeninfo import get_monitors\n",
    "import pickle\n",
    "import numpy as np\n",
    "from skimage.io import imread\n",
    "from skimage.transform import resize\n",
    "from skimage.color import rgba2rgb, gray2rgb\n",
    "from sklearn.metrics import accuracy_score, classification_report\n",
    "import threading\n",
    "import logging\n",
    "from ultralytics import YOLO\n",
    "from flask import Flask, jsonify\n",
    "import time"
   ]
  },
  {
   "cell_type": "code",
   "execution_count": null,
   "id": "1527d943-5216-4846-982d-e35affa7f29b",
   "metadata": {},
   "outputs": [],
   "source": [
    "def classify_image_with_unknown(img, model, threshold=0.1):\n",
    "   \n",
    "    #img = imread(image_path)\n",
    "    ##RGB conversion\n",
    "    if len(img.shape) == 2:\n",
    "        img = gray2rgb(img)\n",
    "    elif img.shape[-1] == 4:\n",
    "        img = rgba2rgb(img)\n",
    "\n",
    "    #Prediction\n",
    "    img = resize(img, img_size, anti_aliasing=True).flatten()\n",
    "    probabilities = model.predict_proba(img.reshape(1, -1))\n",
    "    max_confidence = np.max(probabilities)\n",
    "    \n",
    "    return model.predict(img.reshape(1, -1))[0] if max_confidence >= threshold else \"unknown\""
   ]
  },
  {
   "cell_type": "code",
   "execution_count": null,
   "id": "c0269060-20da-4c85-babf-0e67e908a2d9",
   "metadata": {},
   "outputs": [],
   "source": [
    "def test(image, test_results, best_estimator):\n",
    "    if image is not None and image.size  > 0:\n",
    "        # Classify the image\n",
    "        result = classify_image_with_unknown(image, best_estimator, threshold=0.1)\n",
    "        test_results[f\"frame_{frame_count}\"] = result\n",
    "        print(f\"Frame: {frame_count}, Classification Result: {result}\")\n",
    "    else:\n",
    "        print(f\"Skipping frame_{frame_count}: Not a useful frame.\")"
   ]
  },
  {
   "cell_type": "code",
   "execution_count": null,
   "id": "2372ae28-97c7-430f-b8f0-44e614d7fd4b",
   "metadata": {},
   "outputs": [],
   "source": [
    "app = Flask(__name__)"
   ]
  },
  {
   "cell_type": "code",
   "execution_count": null,
   "id": "ad18658e-acc6-4ae1-9974-66542f403914",
   "metadata": {},
   "outputs": [],
   "source": [
    "def run_flask():\n",
    "    app.run(host='0.0.0.0', port=5000, debug=False)"
   ]
  },
  {
   "cell_type": "code",
   "execution_count": null,
   "id": "df3e4adc-4f73-4271-951e-b29f2551fba6",
   "metadata": {},
   "outputs": [],
   "source": [
    "@app.route('/data', methods=['GET'])\n",
    "def get_data():\n",
    "    return jsonify(report), 200"
   ]
  },
  {
   "cell_type": "code",
   "execution_count": null,
   "id": "7247158a-862b-418e-b831-281c27ed86ea",
   "metadata": {},
   "outputs": [],
   "source": [
    "threading.Thread(target=run_flask, daemon=True).start()"
   ]
  },
  {
   "cell_type": "code",
   "execution_count": null,
   "id": "46db1906-68f7-4e2b-94e3-bbcafb5347be",
   "metadata": {},
   "outputs": [],
   "source": [
    "# Loading the trained model\n",
    "model_file_name = r\"classifier\"\n",
    "with open(model_file_name, 'rb') as file:\n",
    "    best_estimator = pickle.load(file)"
   ]
  },
  {
   "cell_type": "code",
   "execution_count": null,
   "id": "e488ca44-19e7-4e63-94af-17b258a86e5f",
   "metadata": {},
   "outputs": [],
   "source": [
    "# Loading calssification_report\n",
    "with open('Scripts/Resources/classification_report', 'rb') as f:\n",
    "    report = pickle.load(f)\n",
    "report[\"Execution_Time_of_Prediction\"] = None\n",
    "report[\"Test_Results\"] = []"
   ]
  },
  {
   "cell_type": "code",
   "execution_count": null,
   "id": "6485936f-7c0c-4721-a1c4-a4d3f331ff77",
   "metadata": {},
   "outputs": [],
   "source": [
    "img_size = (15, 15) # Resizing for consistency"
   ]
  },
  {
   "cell_type": "code",
   "execution_count": null,
   "id": "1148d0a3-d01d-49b0-8872-ff0279d9d64d",
   "metadata": {},
   "outputs": [],
   "source": [
    "# Get screen resolution\n",
    "screen = get_monitors()[0]  # Get the primary monitor\n",
    "screen_width, screen_height = screen.width, screen.height"
   ]
  },
  {
   "cell_type": "code",
   "execution_count": null,
   "id": "4bdd5b68-bbeb-467c-a422-d3dc44621097",
   "metadata": {},
   "outputs": [],
   "source": [
    "# Load YOLO model for traffic light detection\n",
    "model = YOLO('yolov8n.pt') "
   ]
  },
  {
   "cell_type": "code",
   "execution_count": null,
   "id": "214ced11-dceb-47e2-872b-a938c6a94a80",
   "metadata": {},
   "outputs": [],
   "source": [
    "# Load the video\n",
    "video_path = r\"Scripts\\Resources\\Videos\\Real_life_test_daylight_4.mp4\""
   ]
  },
  {
   "cell_type": "code",
   "execution_count": null,
   "id": "7e2037f1-dd27-44f1-84ca-42c34dc3d3ab",
   "metadata": {},
   "outputs": [],
   "source": [
    "cap = cv2.VideoCapture(video_path)\n",
    "if not cap.isOpened():\n",
    "    print(\"Error: Cannot open video file!\")\n",
    "    exit()"
   ]
  },
  {
   "cell_type": "code",
   "execution_count": null,
   "id": "5040e4e7-f2f9-4fef-8e33-e354ab6e161c",
   "metadata": {},
   "outputs": [],
   "source": [
    "fps = cap.get(cv2.CAP_PROP_FPS)\n",
    "frame_count = 0\n",
    "\n",
    "cv2.namedWindow(\"Video\", cv2.WINDOW_NORMAL)  # Create a resizable window\n",
    "start_time = time.time()\n",
    "\n",
    "while True:\n",
    "    ret, frame = cap.read()\n",
    "    if not ret:\n",
    "        print(\"End of video or cannot access the video.\")\n",
    "        break\n",
    "\n",
    "    frame = cv2.cvtColor(frame, cv2.COLOR_BGR2RGB)\n",
    "\n",
    "    frame_count += 1\n",
    "    # Process every frame or skip to reduce processing\n",
    "    if frame_count % int(fps) != 0:  # Process one frame per second\n",
    "        continue\n",
    "\n",
    "    # YOLO detection\n",
    "    results = model(frame)  # Run the YOLO model on the current frame\n",
    "    \n",
    "    # Access the first result in the list\n",
    "    result = results[0]\n",
    "    \n",
    "    test_results = {}\n",
    "    \n",
    "    # Iterate through detected boxes\n",
    "    for box in result.boxes:\n",
    "        class_id = int(box.cls)  # Object class ID\n",
    "        if class_id == 9:  # class 9 corresponds to traffic lights in YOLO\n",
    "            # Extract bounding box coordinates\n",
    "            x1, y1, x2, y2 = map(int, box.xyxy[0])  # Bounding box coordinates\n",
    "            traffic_light_roi = frame[y1:y2, x1:x2]  # Crop the traffic light region\n",
    "\n",
    "            test(traffic_light_roi, test_results, best_estimator)\n",
    "            #report[\"Test_Results\"].append(test_results)\n",
    "            report[\"Test_Results\"].append(test_results)\n",
    "\n",
    "            break  # Avoid multiple saves for the same frame\n",
    "            \n",
    "    # Resize frame to fit screen size\n",
    "    frame_height, frame_width = frame.shape[:2]\n",
    "    aspect_ratio = frame_width / frame_height\n",
    "\n",
    "    # Calculate new dimensions while maintaining aspect ratio\n",
    "    if frame_width > screen_width or frame_height > screen_height:\n",
    "        if frame_width / screen_width > frame_height / screen_height:\n",
    "            new_width = screen_width\n",
    "            new_height = int(screen_width / aspect_ratio)\n",
    "        else:\n",
    "            new_height = screen_height\n",
    "            new_width = int(screen_height * aspect_ratio)\n",
    "    else:\n",
    "        new_width, new_height = frame_width, frame_height\n",
    "\n",
    "    resized_frame = cv2.resize(frame, (new_width, new_height))\n",
    "    cv2.imshow(\"Video\", resized_frame)\n",
    "\n",
    "    if cv2.waitKey(1) & 0xFF == ord('q'):  # Press 'q' to quit\n",
    "        break\n",
    "\n",
    "end_time = time.time()\n",
    "execution_time = end_time - start_time\n",
    "report[\"Execution_Time_of_Prediction\"] = execution_time\n",
    "\n",
    "print(f\"Total frames processed: {frame_count}\")\n",
    "cap.release()\n",
    "cv2.destroyAllWindows()"
   ]
  }
 ],
 "metadata": {
  "kernelspec": {
   "display_name": "Python 3",
   "language": "python",
   "name": "python3"
  },
  "language_info": {
   "codemirror_mode": {
    "name": "ipython",
    "version": 3
   },
   "file_extension": ".py",
   "mimetype": "text/x-python",
   "name": "python",
   "nbconvert_exporter": "python",
   "pygments_lexer": "ipython3",
   "version": "3.11.0"
  }
 },
 "nbformat": 4,
 "nbformat_minor": 5
}

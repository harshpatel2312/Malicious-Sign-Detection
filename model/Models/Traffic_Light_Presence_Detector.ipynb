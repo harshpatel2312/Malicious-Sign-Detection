{
 "cells": [
  {
   "cell_type": "code",
   "execution_count": 2,
   "id": "fe065ced-8514-4c5e-b9a2-b2ccf89f5521",
   "metadata": {},
   "outputs": [],
   "source": [
    "# traffic_light_detection.py\n",
    "import cv2\n",
    "from ultralytics import YOLO\n",
    "import os\n",
    "from screeninfo import get_monitors"
   ]
  },
  {
   "cell_type": "code",
   "execution_count": 3,
   "id": "4bdd5b68-bbeb-467c-a422-d3dc44621097",
   "metadata": {},
   "outputs": [],
   "source": [
    "# Load YOLO model for traffic light detection\n",
    "model = YOLO('yolov8n.pt')  # Replace with appropriate YOLO model path"
   ]
  },
  {
   "cell_type": "code",
   "execution_count": 4,
   "id": "214ced11-dceb-47e2-872b-a938c6a94a80",
   "metadata": {},
   "outputs": [],
   "source": [
    "# Load the video\n",
    "#video_path = r\"E:\\Education\\Projects\\Machine Learning\\Computer Vision\\MSD Models\\Resources\\Videos\\5402446-hd_1920_1080_24fps.mp4\"\n",
    "#video_path = r\"E:\\Education\\Projects\\Machine Learning\\Computer Vision\\MSD Models\\Resources\\Videos\\5514514-uhd_3840_2160_24fps.mp4\"\n",
    "video_path = r\"E:\\Education\\Projects\\Machine Learning\\Computer Vision\\MSD Models\\Resources\\Videos\\6272904-uhd_2160_3840_24fps.mp4\"\n",
    "output_dir = r\"E:\\Education\\Projects\\Machine Learning\\Computer Vision\\MSD Models\\Resources\\Images\\Saved Frames\"\n",
    "# Ensure output directory exists\n",
    "if not os.path.exists(output_dir):\n",
    "    os.makedirs(output_dir)"
   ]
  },
  {
   "cell_type": "code",
   "execution_count": 5,
   "id": "7e2037f1-dd27-44f1-84ca-42c34dc3d3ab",
   "metadata": {},
   "outputs": [],
   "source": [
    "cap = cv2.VideoCapture(video_path)\n",
    "if not cap.isOpened():\n",
    "    print(\"Error: Cannot open video file!\")\n",
    "    exit()"
   ]
  },
  {
   "cell_type": "code",
   "execution_count": 6,
   "id": "5040e4e7-f2f9-4fef-8e33-e354ab6e161c",
   "metadata": {},
   "outputs": [
    {
     "name": "stdout",
     "output_type": "stream",
     "text": [
      "\n",
      "0: 640x384 2 persons, 2 traffic lights, 1 bench, 178.5ms\n",
      "Speed: 6.6ms preprocess, 178.5ms inference, 9.5ms postprocess per image at shape (1, 3, 640, 384)\n",
      "Saved ROI: E:\\Education\\Projects\\Machine Learning\\Computer Vision\\MSD Models\\Resources\\Images\\Saved Frames/traffic_light_frame23.png\n",
      "\n",
      "0: 640x384 1 person, 3 traffic lights, 123.5ms\n",
      "Speed: 4.5ms preprocess, 123.5ms inference, 2.0ms postprocess per image at shape (1, 3, 640, 384)\n",
      "Saved ROI: E:\\Education\\Projects\\Machine Learning\\Computer Vision\\MSD Models\\Resources\\Images\\Saved Frames/traffic_light_frame46.png\n",
      "\n",
      "0: 640x384 1 person, 2 traffic lights, 107.5ms\n",
      "Speed: 3.1ms preprocess, 107.5ms inference, 1.8ms postprocess per image at shape (1, 3, 640, 384)\n",
      "Saved ROI: E:\\Education\\Projects\\Machine Learning\\Computer Vision\\MSD Models\\Resources\\Images\\Saved Frames/traffic_light_frame69.png\n",
      "\n",
      "0: 640x384 1 person, 2 traffic lights, 109.1ms\n",
      "Speed: 4.5ms preprocess, 109.1ms inference, 1.0ms postprocess per image at shape (1, 3, 640, 384)\n",
      "Saved ROI: E:\\Education\\Projects\\Machine Learning\\Computer Vision\\MSD Models\\Resources\\Images\\Saved Frames/traffic_light_frame92.png\n",
      "\n",
      "0: 640x384 1 person, 2 traffic lights, 118.4ms\n",
      "Speed: 5.1ms preprocess, 118.4ms inference, 1.5ms postprocess per image at shape (1, 3, 640, 384)\n",
      "Saved ROI: E:\\Education\\Projects\\Machine Learning\\Computer Vision\\MSD Models\\Resources\\Images\\Saved Frames/traffic_light_frame115.png\n",
      "\n",
      "0: 640x384 2 persons, 2 traffic lights, 1 skateboard, 119.9ms\n",
      "Speed: 10.0ms preprocess, 119.9ms inference, 28.5ms postprocess per image at shape (1, 3, 640, 384)\n",
      "Saved ROI: E:\\Education\\Projects\\Machine Learning\\Computer Vision\\MSD Models\\Resources\\Images\\Saved Frames/traffic_light_frame138.png\n",
      "\n",
      "0: 640x384 2 persons, 1 car, 2 traffic lights, 146.8ms\n",
      "Speed: 4.0ms preprocess, 146.8ms inference, 2.0ms postprocess per image at shape (1, 3, 640, 384)\n",
      "Saved ROI: E:\\Education\\Projects\\Machine Learning\\Computer Vision\\MSD Models\\Resources\\Images\\Saved Frames/traffic_light_frame161.png\n",
      "\n",
      "0: 640x384 2 persons, 2 traffic lights, 1 cup, 1 cell phone, 117.1ms\n",
      "Speed: 4.0ms preprocess, 117.1ms inference, 2.0ms postprocess per image at shape (1, 3, 640, 384)\n",
      "Saved ROI: E:\\Education\\Projects\\Machine Learning\\Computer Vision\\MSD Models\\Resources\\Images\\Saved Frames/traffic_light_frame184.png\n",
      "\n",
      "0: 640x384 2 persons, 3 traffic lights, 197.8ms\n",
      "Speed: 2.0ms preprocess, 197.8ms inference, 5.0ms postprocess per image at shape (1, 3, 640, 384)\n",
      "Saved ROI: E:\\Education\\Projects\\Machine Learning\\Computer Vision\\MSD Models\\Resources\\Images\\Saved Frames/traffic_light_frame207.png\n",
      "\n",
      "0: 640x384 1 person, 2 traffic lights, 1 cell phone, 111.4ms\n",
      "Speed: 4.5ms preprocess, 111.4ms inference, 1.5ms postprocess per image at shape (1, 3, 640, 384)\n",
      "Saved ROI: E:\\Education\\Projects\\Machine Learning\\Computer Vision\\MSD Models\\Resources\\Images\\Saved Frames/traffic_light_frame230.png\n",
      "End of video or cannot access the video.\n",
      "Total frames saved: 10\n"
     ]
    }
   ],
   "source": [
    "fps = cap.get(cv2.CAP_PROP_FPS)\n",
    "frame_count = 0\n",
    "saved_count = 0\n",
    "\n",
    "while True:\n",
    "    ret, frame = cap.read()\n",
    "    if not ret:\n",
    "        print(\"End of video or cannot access the video.\")\n",
    "        break\n",
    "\n",
    "    frame_count += 1\n",
    "    # Process every frame or skip to reduce processing\n",
    "    if frame_count % int(fps) != 0:  # Process one frame per second\n",
    "        continue\n",
    "\n",
    "    # YOLO detection\n",
    "    results = model(frame)  # Run the YOLO model on the current frame\n",
    "    \n",
    "    # Access the first result in the list\n",
    "    result = results[0]\n",
    "    \n",
    "    # Iterate through detected boxes\n",
    "    for box in result.boxes:\n",
    "        class_id = int(box.cls)  # Object class ID\n",
    "        if class_id == 9:  # Assuming class 9 corresponds to traffic lights\n",
    "            # Extract bounding box coordinates\n",
    "            x1, y1, x2, y2 = map(int, box.xyxy[0])  # Bounding box coordinates\n",
    "            traffic_light_roi = frame[y1:y2, x1:x2]  # Crop the traffic light region\n",
    "    \n",
    "            # Save the frame with a timestamp or unique name\n",
    "            save_path = f\"{output_dir}/traffic_light_frame{frame_count}.png\"\n",
    "            cv2.imwrite(save_path, traffic_light_roi)\n",
    "            print(f\"Saved ROI: {save_path}\")\n",
    "            saved_count += 1\n",
    "            break  # Avoid multiple saves for the same frame\n",
    "            # Resize frame to fit screen size\n",
    "\n",
    "print(f\"Total frames saved: {saved_count}\")\n",
    "cap.release()\n",
    "cv2.destroyAllWindows()"
   ]
  }
 ],
 "metadata": {
  "kernelspec": {
   "display_name": "Python 3 (ipykernel)",
   "language": "python",
   "name": "python3"
  },
  "language_info": {
   "codemirror_mode": {
    "name": "ipython",
    "version": 3
   },
   "file_extension": ".py",
   "mimetype": "text/x-python",
   "name": "python",
   "nbconvert_exporter": "python",
   "pygments_lexer": "ipython3",
   "version": "3.12.4"
  }
 },
 "nbformat": 4,
 "nbformat_minor": 5
}

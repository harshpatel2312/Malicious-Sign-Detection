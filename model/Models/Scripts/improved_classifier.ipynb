{
 "cells": [
  {
   "cell_type": "code",
   "execution_count": 5,
   "id": "3cf3cd0f",
   "metadata": {},
   "outputs": [],
   "source": [
    "import os\n",
    "import numpy as np\n",
    "import pickle\n",
    "import time\n",
    "import logging\n",
    "import matplotlib.pyplot as plt\n",
    "import seaborn as sns\n",
    "from skimage.io import imread\n",
    "from skimage.transform import resize\n",
    "from skimage.color import rgba2rgb, gray2rgb\n",
    "from sklearn.model_selection import train_test_split, StratifiedKFold, GridSearchCV\n",
    "from sklearn.svm import SVC\n",
    "from sklearn.metrics import accuracy_score, classification_report, confusion_matrix\n",
    "from concurrent.futures import ThreadPoolExecutor"
   ]
  },
  {
   "cell_type": "code",
   "execution_count": 6,
   "id": "67174860",
   "metadata": {},
   "outputs": [],
   "source": [
    "\n",
    "logging.basicConfig(level=logging.INFO, format=\"%(asctime)s - %(levelname)s - %(message)s\")\n",
    "\n",
    "# Paths\n",
    "input_dir = 'D:/Capstone/Malicious-Sign-Detection/carla_lights/traffic_light_data'\n",
    "output_model_path = 'D:/Capstone/Malicious-Sign-Detection/classifier.pkl'  \n",
    "\n",
    "# Categories\n",
    "categories = ['green', 'red', 'yellow']\n",
    "blurred_suffix = ' blurred'\n",
    "img_size = (15, 15)  \n",
    "\n",
    "# Image storage\n",
    "data_train, labels_train = [], []\n",
    "data_val, labels_val = [], []"
   ]
  },
  {
   "cell_type": "code",
   "execution_count": 7,
   "id": "853ab88d",
   "metadata": {},
   "outputs": [],
   "source": [
    "def load_images(category, folder_type, data, labels):\n",
    "    category_path = os.path.join(input_dir, folder_type, category)\n",
    "    blurred_path = os.path.join(input_dir, folder_type, f\"{category}{blurred_suffix}\")\n",
    "\n",
    "    paths = [category_path, blurred_path]\n",
    "    image_files = []\n",
    "\n",
    "    # Collecting all image file paths\n",
    "    for folder in paths:\n",
    "        if os.path.exists(folder):\n",
    "            image_files.extend([os.path.join(folder, file) for file in os.listdir(folder)])\n",
    "\n",
    "    def process_image(img_path):\n",
    "        try:\n",
    "            img = imread(img_path)\n",
    "            # Converting grayscale and RGBA to RGB\n",
    "            if len(img.shape) == 2:  # Grayscale\n",
    "                img = gray2rgb(img)\n",
    "            elif img.shape[-1] == 4:  # RGBA\n",
    "                img = rgba2rgb(img)\n",
    "            \n",
    "            img = resize(img, img_size, anti_aliasing=True).flatten()\n",
    "            return img, category\n",
    "        except Exception as e:\n",
    "            logging.warning(f\"Skipping {img_path}: {e}\")\n",
    "            return None\n",
    "\n",
    "    # Loading images using threading\n",
    "    with ThreadPoolExecutor() as executor:\n",
    "        results = list(executor.map(process_image, image_files))\n",
    "\n",
    "    # Adding valid images to dataset\n",
    "    for res in results:\n",
    "        if res:\n",
    "            data.append(res[0])\n",
    "            labels.append(res[1])\n"
   ]
  },
  {
   "cell_type": "code",
   "execution_count": 8,
   "id": "dd075366",
   "metadata": {},
   "outputs": [
    {
     "name": "stderr",
     "output_type": "stream",
     "text": [
      "2025-03-06 13:53:46,214 - INFO - x_train shape: (3520, 675), y_train shape: (3520,)\n",
      "2025-03-06 13:53:46,216 - INFO - x_val shape: (566, 675), y_val shape: (566,)\n"
     ]
    }
   ],
   "source": [
    "# Loading training images\n",
    "for category in categories:\n",
    "    load_images(category, 'train', data_train, labels_train)\n",
    "\n",
    "# Loading validation images\n",
    "for category in categories:\n",
    "    load_images(category, 'val', data_val, labels_val)\n",
    "\n",
    "# Converting to numpy arrays\n",
    "x_train, y_train = np.array(data_train), np.array(labels_train)\n",
    "x_val, y_val = np.array(data_val), np.array(labels_val)\n",
    "\n",
    "logging.info(f\"x_train shape: {x_train.shape}, y_train shape: {y_train.shape}\")\n",
    "logging.info(f\"x_val shape: {x_val.shape}, y_val shape: {y_val.shape}\")\n"
   ]
  },
  {
   "cell_type": "code",
   "execution_count": 9,
   "id": "7beb93c6",
   "metadata": {},
   "outputs": [
    {
     "data": {
      "image/png": "[encoded data removed]",
      "text/plain": [
       "<Figure size 1200x400 with 3 Axes>"
      ]
     },
     "metadata": {},
     "output_type": "display_data"
    }
   ],
   "source": [
    "def plot_sample_images(x, y, categories, title=\"Sample Images from Dataset\"):\n",
    "    fig, axes = plt.subplots(1, len(categories), figsize=(12, 4))\n",
    "    fig.suptitle(title, fontsize=14)\n",
    "\n",
    "    for i, category in enumerate(categories):\n",
    "        idx = np.where(y == category)[0][0]\n",
    "        img = x[idx].reshape(img_size[0], img_size[1], 3)\n",
    "        axes[i].imshow(img)\n",
    "        axes[i].axis(\"off\")\n",
    "        axes[i].set_title(category)\n",
    "    \n",
    "    plt.show()\n",
    "\n",
    "\n",
    "# Show example images from dataset\n",
    "plot_sample_images(x_train, y_train, categories)\n"
   ]
  },
  {
   "cell_type": "code",
   "execution_count": 10,
   "id": "36cb0e02",
   "metadata": {},
   "outputs": [],
   "source": [
    "def train_svc(x_train, y_train):\n",
    "    classifier = SVC(probability=True)\n",
    "    parameters = [{'gamma': [0.01, 0.001, 0.0001], 'C': [1, 10, 100]}]\n",
    "    skf = StratifiedKFold(n_splits=5, shuffle=True, random_state=42)  # Improved cross-validation\n",
    "\n",
    "    grid_search = GridSearchCV(classifier, parameters, cv=skf, n_jobs=-1, verbose=1)\n",
    "    grid_search.fit(x_train, y_train)\n",
    "\n",
    "    logging.info(f\"Best Parameters: {grid_search.best_params_}\")\n",
    "    return grid_search.best_estimator_"
   ]
  },
  {
   "cell_type": "code",
   "execution_count": 11,
   "id": "014620d6",
   "metadata": {},
   "outputs": [
    {
     "name": "stdout",
     "output_type": "stream",
     "text": [
      "Fitting 5 folds for each of 9 candidates, totalling 45 fits\n"
     ]
    },
    {
     "name": "stderr",
     "output_type": "stream",
     "text": [
      "2025-03-06 13:55:00,931 - INFO - Best Parameters: {'C': 100, 'gamma': 0.01}\n",
      "2025-03-06 13:55:00,932 - INFO - Training completed in 74.30 seconds.\n",
      "2025-03-06 13:55:00,974 - INFO - Validation Accuracy: 96.47%\n"
     ]
    },
    {
     "name": "stdout",
     "output_type": "stream",
     "text": [
      "              precision    recall  f1-score   support\n",
      "\n",
      "       green       0.98      0.94      0.96       200\n",
      "         red       0.99      0.96      0.98       200\n",
      "      yellow       0.92      1.00      0.96       166\n",
      "\n",
      "    accuracy                           0.96       566\n",
      "   macro avg       0.96      0.97      0.96       566\n",
      "weighted avg       0.97      0.96      0.96       566\n",
      "\n"
     ]
    }
   ],
   "source": [
    "start_time = time.time()\n",
    "best_estimator = train_svc(x_train, y_train)\n",
    "logging.info(f\"Training completed in {time.time() - start_time:.2f} seconds.\")\n",
    "\n",
    "# Evaluating Model\n",
    "y_pred = best_estimator.predict(x_val)\n",
    "accuracy = accuracy_score(y_val, y_pred)\n",
    "logging.info(f\"Validation Accuracy: {accuracy * 100:.2f}%\")\n",
    "\n",
    "#classification report\n",
    "print(classification_report(y_val, y_pred))"
   ]
  },
  {
   "cell_type": "code",
   "execution_count": 12,
   "id": "6657604a",
   "metadata": {},
   "outputs": [
    {
     "data": {
      "image/png": "[encoded data removed]",
      "text/plain": [
       "<Figure size 600x500 with 2 Axes>"
      ]
     },
     "metadata": {},
     "output_type": "display_data"
    },
    {
     "name": "stderr",
     "output_type": "stream",
     "text": [
      "2025-03-06 13:55:01,213 - INFO - Model saved as D:/Capstone/Malicious-Sign-Detection/classifier.pkl\n",
      "2025-03-06 13:55:02,370 - INFO - Classification Result: green\n"
     ]
    }
   ],
   "source": [
    "def plot_confusion_matrix(y_true, y_pred, categories):\n",
    "    cm = confusion_matrix(y_true, y_pred, labels=categories)\n",
    "    plt.figure(figsize=(6, 5))\n",
    "    sns.heatmap(cm, annot=True, fmt=\"d\", cmap=\"Blues\", xticklabels=categories, yticklabels=categories)\n",
    "    plt.xlabel(\"Predicted\")\n",
    "    plt.ylabel(\"Actual\")\n",
    "    plt.title(\"Confusion Matrix\")\n",
    "    plt.show()\n",
    "\n",
    "\n",
    "plot_confusion_matrix(y_val, y_pred, categories)\n",
    "\n",
    "\n",
    "### **Save Model**\n",
    "with open(output_model_path, 'wb') as file:\n",
    "    pickle.dump(best_estimator, file)\n",
    "\n",
    "logging.info(f\"Model saved as {output_model_path}\")\n",
    "\n",
    "\n",
    "\n",
    "def classify_image_with_unknown(image_path, model, threshold=0.7):\n",
    "    img = imread(image_path)\n",
    "    if len(img.shape) == 2:\n",
    "        img = gray2rgb(img)\n",
    "    elif img.shape[-1] == 4:\n",
    "        img = rgba2rgb(img)\n",
    "\n",
    "    img = resize(img, img_size, anti_aliasing=True).flatten()\n",
    "    probabilities = model.predict_proba(img.reshape(1, -1))\n",
    "    max_confidence = np.max(probabilities)\n",
    "    \n",
    "    return model.predict(img.reshape(1, -1))[0] if max_confidence >= threshold else \"unknown\"\n",
    "\n",
    "\n",
    "#Testing on a single image\n",
    "test_image_path = \"D:/Capstone/Malicious-Sign-Detection/Messenger_creation_9203779869632344.jpg\"\n",
    "result = classify_image_with_unknown(test_image_path, best_estimator, threshold=0.7)\n",
    "logging.info(f\"Classification Result: {result}\")\n"
   ]
  },
  {
   "cell_type": "code",
   "execution_count": null,
   "id": "48e516a4",
   "metadata": {},
   "outputs": [],
   "source": []
  }
 ],
 "metadata": {
  "kernelspec": {
   "display_name": "Python (capstone)",
   "language": "python",
   "name": "myenv"
  },
  "language_info": {
   "codemirror_mode": {
    "name": "ipython",
    "version": 3
   },
   "file_extension": ".py",
   "mimetype": "text/x-python",
   "name": "python",
   "nbconvert_exporter": "python",
   "pygments_lexer": "ipython3",
   "version": "3.8.20"
  }
 },
 "nbformat": 4,
 "nbformat_minor": 5
}

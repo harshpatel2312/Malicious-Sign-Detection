{
 "cells": [
  {
   "cell_type": "code",
   "execution_count": 17,
   "id": "923019e1-e134-4555-a677-e34b69203f31",
   "metadata": {},
   "outputs": [],
   "source": [
    "import carla\n",
    "import random\n",
    "import time"
   ]
  },
  {
   "cell_type": "code",
   "execution_count": 18,
   "id": "0e463cd6-e38b-43e7-a8a6-b9da391e2037",
   "metadata": {},
   "outputs": [],
   "source": [
    "client = carla.Client('localhost', 2000)\n",
    "client.set_timeout(10)\n",
    "\n",
    "world = client.get_world()    "
   ]
  },
  {
   "cell_type": "code",
   "execution_count": 19,
   "id": "38862e8c-d784-40cf-877b-252e05b5cd48",
   "metadata": {},
   "outputs": [],
   "source": [
    "def store_coordinates(filename):\n",
    "    map = world.get_map()\n",
    "    spawn_points = map.get_spawn_points()\n",
    "    \n",
    "    with open(filename, \"w\") as file:\n",
    "        for i, spawn_point in enumerate(spawn_points):\n",
    "            location = spawn_point.location\n",
    "            rotation = spawn_point.rotation\n",
    "    \n",
    "            file.write(f\"Spawn Point {i}: Location: ({location.x}, {location.y}, {location.z}), \"\n",
    "                       f\"Rotation: ({rotation.roll}, {rotation.pitch}, {rotation.yaw})\\n\")\n",
    "    \n",
    "    return \"File Saved\""
   ]
  },
  {
   "cell_type": "code",
   "execution_count": 20,
   "id": "764b77b3-b6a9-4403-b4c0-85d9b51fd4e4",
   "metadata": {},
   "outputs": [],
   "source": [
    "def move_vehicles(start_location, end_location):    \n",
    "    blueprint = world.get_blueprint_library().find(\"vehicle.dodge.charger_police_2020\")\n",
    "\n",
    "    spawn_point = carla.Transform(start_location)\n",
    "    vehicle = world.spawn_actor(blueprint, spawn_point)\n",
    "\n",
    "    vehicle.set_autopilot(True)\n",
    "\n",
    "    time.sleep(120)\n",
    "\n",
    "    vehicle.set_autopilot(False)\n",
    "\n",
    "    vehicle.destroy()\n",
    "    "
   ]
  },
  {
   "cell_type": "code",
   "execution_count": 21,
   "id": "349fad29-810c-40ff-ae9a-d6cd5c88defe",
   "metadata": {},
   "outputs": [
    {
     "data": {
      "text/plain": [
       "'File Saved'"
      ]
     },
     "execution_count": 21,
     "metadata": {},
     "output_type": "execute_result"
    }
   ],
   "source": [
    "store_coordinates(\"Spawn_Points.txt\")"
   ]
  },
  {
   "cell_type": "code",
   "execution_count": 22,
   "id": "ad946624-751b-494f-bef7-ae2c1bb1d273",
   "metadata": {},
   "outputs": [],
   "source": [
    "start_location = carla.Location(x = -64.64484405517578, y = 24.471010208129883, z = 0.5999999642372131)\n",
    "end_location = carla.Location(x = -67.25457000732422, y = 27.96375846862793, z = 0.5999999642372131)\n",
    "move_vehicles(start_location, end_location)"
   ]
  },
  {
   "cell_type": "code",
   "execution_count": null,
   "id": "ce151cbb-8bd6-4abc-a6a5-fdd444f27870",
   "metadata": {},
   "outputs": [],
   "source": []
  }
 ],
 "metadata": {
  "kernelspec": {
   "display_name": "Python (carla_sim)",
   "language": "python",
   "name": "carla_sim"
  },
  "language_info": {
   "codemirror_mode": {
    "name": "ipython",
    "version": 3
   },
   "file_extension": ".py",
   "mimetype": "text/x-python",
   "name": "python",
   "nbconvert_exporter": "python",
   "pygments_lexer": "ipython3",
   "version": "3.8.19"
  }
 },
 "nbformat": 4,
 "nbformat_minor": 5
}
